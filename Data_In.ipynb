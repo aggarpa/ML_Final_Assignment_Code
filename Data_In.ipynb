{
 "cells": [
  {
   "cell_type": "code",
   "execution_count": 2,
   "id": "ed39ebc9",
   "metadata": {},
   "outputs": [],
   "source": [
    "import pandas as pd\n",
    "import numpy as np\n",
    "\n",
    "\n",
    "X = pd.read_csv('en_sent_merged2.csv', usecols=['id','host_is_superhost','latitude','longitude','accommodates',\n",
    "                                      'bathrooms_text','bedrooms','beds','amenities','price','minimum_nights',\n",
    "                                      'number_of_reviews','review_scores_value','sentiment', 'room_type',\n",
    "                                      'property_type'], low_memory=False)"
   ]
  },
  {
   "cell_type": "code",
   "execution_count": 3,
   "id": "4589021c",
   "metadata": {},
   "outputs": [],
   "source": [
    "scale_mapper = {\n",
    "    \"f\": 0,\n",
    "    \"t\": 1,\n",
    "}\n",
    "\n",
    "X['host_is_superhost'] = X['host_is_superhost'].replace(scale_mapper)"
   ]
  },
  {
   "cell_type": "code",
   "execution_count": 4,
   "id": "49906d73",
   "metadata": {},
   "outputs": [],
   "source": [
    "import re\n",
    "# get the numerical value in column 'bathrooms_text'\n",
    "X['bathrooms_text'] = X['bathrooms_text'].str.extract(r'(\\d+\\.?\\d*)', expand=False)\n",
    "\n",
    "X['price'] = X['price'].str.extract(r'(\\d+\\.?\\d*)', expand=False)\n",
    "\n",
    "X.bathrooms_text = pd.to_numeric(X.bathrooms_text)\n",
    "X['bathrooms_text'].fillna(X['bathrooms_text'].mean(), inplace=True)\n",
    "\n",
    "X.accommodates = pd.to_numeric(X.accommodates)\n",
    "X['accommodates'].fillna(X['accommodates'].mean(), inplace=True)\n",
    "\n",
    "X.latitude = pd.to_numeric(X.latitude)\n",
    "X['latitude'].fillna(X['latitude'].mean(), inplace=True)\n",
    "\n",
    "X.longitude = pd.to_numeric(X.longitude)\n",
    "X['longitude'].fillna(X['longitude'].mean(), inplace=True)\n",
    "\n",
    "X['host_is_superhost'] = X['host_is_superhost'].replace('Entire home/apt','1')\n",
    "X.host_is_superhost = pd.to_numeric(X.host_is_superhost)\n",
    "X['host_is_superhost'].fillna(X['host_is_superhost'].mean(), inplace=True)\n",
    "\n",
    "X.bedrooms = pd.to_numeric(X.bedrooms)\n",
    "X['bedrooms'].fillna(X['bedrooms'].mean(), inplace=True)\n",
    "\n",
    "X.beds = pd.to_numeric(X.beds)\n",
    "X['beds'].fillna(X['beds'].mean(), inplace=True)\n",
    "\n",
    "X.price = pd.to_numeric(X.price)\n",
    "X['price'].fillna(X['price'].mean(), inplace=True)\n",
    "\n",
    "X.minimum_nights = pd.to_numeric(X.minimum_nights)\n",
    "X['minimum_nights'].fillna(X['minimum_nights'].mean(), inplace=True)\n",
    "\n",
    "X.number_of_reviews = pd.to_numeric(X.number_of_reviews)\n",
    "X['number_of_reviews'].fillna(X['number_of_reviews'].mean(), inplace=True)"
   ]
  },
  {
   "cell_type": "code",
   "execution_count": 5,
   "id": "048c3f3f",
   "metadata": {},
   "outputs": [
    {
     "data": {
      "text/plain": [
       "id                       0\n",
       "host_is_superhost        0\n",
       "latitude                 0\n",
       "longitude                0\n",
       "property_type           10\n",
       "room_type               10\n",
       "accommodates             0\n",
       "bathrooms_text           0\n",
       "bedrooms                 0\n",
       "beds                     0\n",
       "amenities               10\n",
       "price                    0\n",
       "minimum_nights           0\n",
       "number_of_reviews        0\n",
       "review_scores_value    162\n",
       "sentiment               10\n",
       "dtype: int64"
      ]
     },
     "execution_count": 5,
     "metadata": {},
     "output_type": "execute_result"
    }
   ],
   "source": [
    "X.isna().sum()"
   ]
  },
  {
   "cell_type": "code",
   "execution_count": 6,
   "id": "a0808511",
   "metadata": {},
   "outputs": [
    {
     "data": {
      "text/plain": [
       "array(['Private room in bungalow', 'Private room in home',\n",
       "       'Private room in townhouse', 'Entire rental unit', 'Entire home',\n",
       "       'Entire loft', 'Private room in rental unit', 'Entire condo',\n",
       "       'Entire cottage', 'Entire townhouse', 'Private room in guesthouse',\n",
       "       'Private room in bed and breakfast', 'Boat',\n",
       "       'Entire serviced apartment', 'Private room in condo', 'Tiny home',\n",
       "       'Shared room in condo', 'Entire guest suite', 'Entire cabin',\n",
       "       'Entire guesthouse', 'Entire bungalow', 'Private room in loft',\n",
       "       'Shared room in rental unit', 'Private room in villa',\n",
       "       'Private room in cottage', 'Shared room in loft', 'Castle',\n",
       "       'Private room in serviced apartment', 'Private room in cabin',\n",
       "       'Entire place', 'Entire villa', 'Private room',\n",
       "       'Private room in guest suite', nan, 'Farm stay',\n",
       "       'Shared room in home', 'Private room in floor',\n",
       "       'Room in aparthotel', 'Shared room', 'Entire chalet', 'Tipi',\n",
       "       'Room in serviced apartment', 'Room in boutique hotel', 'Hut',\n",
       "       'Private room in chalet', 'Room in hotel', 'Houseboat',\n",
       "       'Room in hostel', 'Private room in hostel',\n",
       "       'Room in bed and breakfast', 'Shared room in hostel', 'Barn',\n",
       "       'Casa particular', 'Dome', 'Private room in casa particular',\n",
       "       'Camper/RV', 'Entire vacation home'], dtype=object)"
      ]
     },
     "execution_count": 6,
     "metadata": {},
     "output_type": "execute_result"
    }
   ],
   "source": [
    "X.property_type.unique()"
   ]
  },
  {
   "cell_type": "code",
   "execution_count": 14,
   "id": "d36360b9",
   "metadata": {},
   "outputs": [
    {
     "name": "stderr",
     "output_type": "stream",
     "text": [
      "/var/folders/rd/j5mq0pcd6c3b6ld8pnmj2xnw0000gn/T/ipykernel_5079/3010397825.py:1: FutureWarning: The default value of regex will change from True to False in a future version.\n",
      "  X['property_type'] = X.property_type.str.replace(r'(^.*Room.*$)', 'Room')\n"
     ]
    }
   ],
   "source": [
    "X['property_type'] = X.property_type.str.replace(r'(^.*Room.*$)', 'Room')"
   ]
  },
  {
   "cell_type": "code",
   "execution_count": 15,
   "id": "3f2c83f6",
   "metadata": {},
   "outputs": [
    {
     "data": {
      "text/plain": [
       "array(['Room', 'House', 'Boat', 'Tiny home', 'Castle', nan, 'Farm stay',\n",
       "       'Tipi', 'Hut', 'Houseboat', 'Barn', 'Casa particular', 'Dome',\n",
       "       'Camper/RV'], dtype=object)"
      ]
     },
     "execution_count": 15,
     "metadata": {},
     "output_type": "execute_result"
    }
   ],
   "source": [
    "X.property_type.unique()"
   ]
  },
  {
   "cell_type": "code",
   "execution_count": 16,
   "id": "23658c13",
   "metadata": {},
   "outputs": [],
   "source": [
    "X.loc[~X.property_type.isin(['House', 'Room']), 'property_type'] = 'Other'"
   ]
  },
  {
   "cell_type": "code",
   "execution_count": 17,
   "id": "9fe21588",
   "metadata": {},
   "outputs": [],
   "source": [
    "scale_mapper = {\n",
    "    \"Private room\": 0,\n",
    "    \"Entire home/apt\": 1,\n",
    "    \"Shared room\" : 2,\n",
    "    \"Hotel room\" : 3\n",
    "}\n",
    "\n",
    "X['room_type'] = X['room_type'].replace(scale_mapper)"
   ]
  },
  {
   "cell_type": "code",
   "execution_count": 18,
   "id": "f78ba2dd",
   "metadata": {},
   "outputs": [],
   "source": [
    "scale_mapper = {\n",
    "    \"Room\": 0,\n",
    "    \"House\": 1,\n",
    "    \"Other\" : 2,\n",
    "}\n",
    "\n",
    "X['property_type'] = X['property_type'].replace(scale_mapper)"
   ]
  },
  {
   "cell_type": "code",
   "execution_count": 11,
   "id": "90757239",
   "metadata": {},
   "outputs": [],
   "source": [
    "cols = X.columns.drop('id')\n",
    "X[cols] = X[cols].apply(pd.to_numeric, errors='coerce')"
   ]
  },
  {
   "cell_type": "code",
   "execution_count": 33,
   "id": "197f10c5",
   "metadata": {},
   "outputs": [],
   "source": [
    "amenities_list = []\n",
    "\n",
    "for element in X.amenities:\n",
    "    element  = str(element)\n",
    "    element = element[1:]\n",
    "    element = element[:-1]\n",
    "    x = element.split()\n",
    "    amenities_list.append(len(x))\n",
    "\n",
    "X.amenities = amenities_list"
   ]
  },
  {
   "cell_type": "code",
   "execution_count": 34,
   "id": "c96d1f0a",
   "metadata": {},
   "outputs": [
    {
     "data": {
      "text/plain": [
       "id                     202422\n",
       "host_is_superhost      202422\n",
       "latitude               202422\n",
       "longitude              202422\n",
       "property_type          202422\n",
       "room_type              202422\n",
       "accommodates           202422\n",
       "bathrooms_text         202422\n",
       "bedrooms               202422\n",
       "beds                   202422\n",
       "amenities              202422\n",
       "price                  202422\n",
       "minimum_nights         202422\n",
       "number_of_reviews      202422\n",
       "review_scores_value    202422\n",
       "sentiment              202422\n",
       "rating_bins            202422\n",
       "dtype: int64"
      ]
     },
     "execution_count": 34,
     "metadata": {},
     "output_type": "execute_result"
    }
   ],
   "source": [
    "X.count()"
   ]
  },
  {
   "cell_type": "code",
   "execution_count": 35,
   "id": "51683318",
   "metadata": {},
   "outputs": [
    {
     "data": {
      "text/plain": [
       "id                     0\n",
       "host_is_superhost      0\n",
       "latitude               0\n",
       "longitude              0\n",
       "property_type          0\n",
       "room_type              0\n",
       "accommodates           0\n",
       "bathrooms_text         0\n",
       "bedrooms               0\n",
       "beds                   0\n",
       "amenities              0\n",
       "price                  0\n",
       "minimum_nights         0\n",
       "number_of_reviews      0\n",
       "review_scores_value    0\n",
       "sentiment              0\n",
       "rating_bins            0\n",
       "dtype: int64"
      ]
     },
     "execution_count": 35,
     "metadata": {},
     "output_type": "execute_result"
    }
   ],
   "source": [
    "X.isna().sum()"
   ]
  },
  {
   "cell_type": "code",
   "execution_count": 22,
   "id": "085edde3",
   "metadata": {},
   "outputs": [],
   "source": [
    "X['room_type'].fillna(X['room_type'].mean(), inplace=True)\n",
    "X['review_scores_value'].fillna(X['review_scores_value'].mean(), inplace=True)\n",
    "X['sentiment'].fillna(X['sentiment'].mean(), inplace=True)"
   ]
  },
  {
   "cell_type": "code",
   "execution_count": 36,
   "id": "37965119",
   "metadata": {},
   "outputs": [
    {
     "data": {
      "text/plain": [
       "id                     0\n",
       "host_is_superhost      0\n",
       "latitude               0\n",
       "longitude              0\n",
       "property_type          0\n",
       "room_type              0\n",
       "accommodates           0\n",
       "bathrooms_text         0\n",
       "bedrooms               0\n",
       "beds                   0\n",
       "amenities              0\n",
       "price                  0\n",
       "minimum_nights         0\n",
       "number_of_reviews      0\n",
       "review_scores_value    0\n",
       "sentiment              0\n",
       "rating_bins            0\n",
       "dtype: int64"
      ]
     },
     "execution_count": 36,
     "metadata": {},
     "output_type": "execute_result"
    }
   ],
   "source": [
    "X.isna().sum()"
   ]
  },
  {
   "cell_type": "code",
   "execution_count": 24,
   "id": "2d0f5621",
   "metadata": {},
   "outputs": [
    {
     "data": {
      "text/plain": [
       "id                     203307\n",
       "host_is_superhost      203307\n",
       "latitude               203307\n",
       "longitude              203307\n",
       "property_type          203307\n",
       "room_type              203307\n",
       "accommodates           203307\n",
       "bathrooms_text         203307\n",
       "bedrooms               203307\n",
       "beds                   203307\n",
       "amenities              203297\n",
       "price                  203307\n",
       "minimum_nights         203307\n",
       "number_of_reviews      203307\n",
       "review_scores_value    203307\n",
       "sentiment              203307\n",
       "dtype: int64"
      ]
     },
     "execution_count": 24,
     "metadata": {},
     "output_type": "execute_result"
    }
   ],
   "source": [
    "X.count()"
   ]
  },
  {
   "cell_type": "code",
   "execution_count": 25,
   "id": "5870e3f9",
   "metadata": {},
   "outputs": [],
   "source": [
    "X.loc[~X.host_is_superhost.isin([0, 1]), 'host_is_superhost'] = 1"
   ]
  },
  {
   "cell_type": "code",
   "execution_count": 26,
   "id": "3056a7e0",
   "metadata": {},
   "outputs": [
    {
     "data": {
      "text/plain": [
       "0.0    133328\n",
       "1.0     69979\n",
       "Name: host_is_superhost, dtype: int64"
      ]
     },
     "execution_count": 26,
     "metadata": {},
     "output_type": "execute_result"
    }
   ],
   "source": [
    "X.host_is_superhost.value_counts()"
   ]
  },
  {
   "cell_type": "code",
   "execution_count": 27,
   "id": "cbd32285",
   "metadata": {},
   "outputs": [],
   "source": [
    "X = X.loc[(X.review_scores_value <= 5) & (X.review_scores_value >= 4)]"
   ]
  },
  {
   "cell_type": "code",
   "execution_count": 28,
   "id": "a3f511eb",
   "metadata": {},
   "outputs": [
    {
     "data": {
      "text/plain": [
       "id                     202422\n",
       "host_is_superhost      202422\n",
       "latitude               202422\n",
       "longitude              202422\n",
       "property_type          202422\n",
       "room_type              202422\n",
       "accommodates           202422\n",
       "bathrooms_text         202422\n",
       "bedrooms               202422\n",
       "beds                   202422\n",
       "amenities              202412\n",
       "price                  202422\n",
       "minimum_nights         202422\n",
       "number_of_reviews      202422\n",
       "review_scores_value    202422\n",
       "sentiment              202422\n",
       "dtype: int64"
      ]
     },
     "execution_count": 28,
     "metadata": {},
     "output_type": "execute_result"
    }
   ],
   "source": [
    "X.count()"
   ]
  },
  {
   "cell_type": "code",
   "execution_count": 29,
   "id": "1b6a3d50",
   "metadata": {},
   "outputs": [],
   "source": [
    "X = X.assign(\n",
    "    rating_bins = pd.qcut(\n",
    "        X['review_scores_value'],\n",
    "        q=4,\n",
    "        labels=[0,1,2,3]\n",
    "    )\n",
    ")"
   ]
  },
  {
   "cell_type": "code",
   "execution_count": 38,
   "id": "d358e840",
   "metadata": {},
   "outputs": [
    {
     "name": "stderr",
     "output_type": "stream",
     "text": [
      "/Users/pallavit/opt/anaconda3/lib/python3.9/site-packages/seaborn/_decorators.py:36: FutureWarning: Pass the following variable as a keyword arg: x. From version 0.12, the only valid positional argument will be `data`, and passing other arguments without an explicit keyword will result in an error or misinterpretation.\n",
      "  warnings.warn(\n"
     ]
    },
    {
     "data": {
      "text/plain": [
       "<AxesSubplot:xlabel='rating_bins', ylabel='count'>"
      ]
     },
     "execution_count": 38,
     "metadata": {},
     "output_type": "execute_result"
    },
    {
     "data": {
      "image/png": "[encoded data removed]",
      "text/plain": [
       "<Figure size 432x288 with 1 Axes>"
      ]
     },
     "metadata": {
      "needs_background": "light"
     },
     "output_type": "display_data"
    }
   ],
   "source": [
    "import seaborn as sns\n",
    "sns.countplot(X['rating_bins'], palette=['#432371',\"#FAAE7B\", \"#bcbddc\", \"#efedf5\"])"
   ]
  },
  {
   "cell_type": "code",
   "execution_count": 37,
   "id": "3b32286d",
   "metadata": {},
   "outputs": [
    {
     "name": "stdout",
     "output_type": "stream",
     "text": [
      "Mean, min, and max values :\n",
      "            review_scores_value            \n",
      "                           mean   min   max\n",
      "rating_bins                                \n",
      "0                      4.463172  4.00  4.60\n",
      "1                      4.675546  4.61  4.73\n",
      "2                      4.786736  4.74  4.83\n",
      "3                      4.895426  4.84  5.00\n"
     ]
    }
   ],
   "source": [
    "result = X.groupby('rating_bins').agg({'review_scores_value': ['mean', 'min', 'max']})\n",
    "print(\"Mean, min, and max values :\")\n",
    "print(result)"
   ]
  },
  {
   "cell_type": "code",
   "execution_count": 43,
   "id": "5e61a04f",
   "metadata": {},
   "outputs": [
    {
     "name": "stdout",
     "output_type": "stream",
     "text": [
      "Mean, min, and max values :\n",
      "                  review_scores_value           \n",
      "                                 mean   min  max\n",
      "host_is_superhost                               \n",
      "0.0                          4.651578  3.91  5.0\n",
      "1.0                          4.787812  4.00  5.0\n"
     ]
    }
   ],
   "source": [
    "result = X.groupby('host_is_superhost').agg({'review_scores_value': ['mean', 'min', 'max']})\n",
    "print(\"Mean, min, and max values :\")\n",
    "print(result)"
   ]
  },
  {
   "cell_type": "code",
   "execution_count": 42,
   "id": "7a11ad3b",
   "metadata": {},
   "outputs": [
    {
     "data": {
      "image/png": "[encoded data removed]",
      "text/plain": [
       "<Figure size 576x216 with 2 Axes>"
      ]
     },
     "metadata": {
      "needs_background": "light"
     },
     "output_type": "display_data"
    }
   ],
   "source": [
    "import matplotlib.pyplot as plt\n",
    "fig, (ax1, ax2) = plt.subplots(1, 2, figsize=(8,3))\n",
    "fig.suptitle('Super Host Relation to Score', fontsize=16, y=1)\n",
    "plt.subplots_adjust(top=0.80) # So that the suptitle does not overlap with the ax plot titles\n",
    "    \n",
    "X.groupby('host_is_superhost').size().plot(kind='bar', ax=ax1, color=['#432371',\"#FAAE7B\", \"#bcbddc\", \"#efedf5\"])\n",
    "ax1.set_xticklabels(labels=[0, 1], rotation=0)\n",
    "ax1.set_title('Total type count')\n",
    "ax1.set_xlabel('host_is_superhost 0/1')\n",
    "ax1.set_ylabel('Category count')\n",
    "    \n",
    "X.groupby('host_is_superhost').review_scores_value.mean().plot(kind='bar', ax=ax2, color=['#432371',\"#FAAE7B\", \"#bcbddc\", \"#efedf5\"])\n",
    "ax2.set_xticklabels(labels=[0, 1], rotation=0)\n",
    "ax2.set_title('Mean Review Score value based on type')\n",
    "ax2.set_xlabel('host_is_superhost 0/1')  \n",
    "ax2.set_ylabel('Score value of out 5')\n",
    "plt.show()\n"
   ]
  },
  {
   "cell_type": "code",
   "execution_count": 60,
   "id": "c5344bcb",
   "metadata": {},
   "outputs": [
    {
     "name": "stderr",
     "output_type": "stream",
     "text": [
      "/var/folders/rd/j5mq0pcd6c3b6ld8pnmj2xnw0000gn/T/ipykernel_4495/2694154310.py:1: FutureWarning: this method is deprecated in favour of `Styler.format(precision=..)`\n",
      "  X.corr().style.background_gradient(cmap='coolwarm').set_precision(2)\n"
     ]
    },
    {
     "data": {
      "text/html": [
       "<style type=\"text/css\">\n",
       "#T_73a90_row0_col0, #T_73a90_row1_col1, #T_73a90_row1_col2, #T_73a90_row2_col1, #T_73a90_row2_col2, #T_73a90_row3_col3, #T_73a90_row4_col4, #T_73a90_row5_col5, #T_73a90_row6_col6, #T_73a90_row7_col7, #T_73a90_row8_col8, #T_73a90_row9_col9, #T_73a90_row10_col10, #T_73a90_row11_col11, #T_73a90_row12_col12, #T_73a90_row13_col13, #T_73a90_row14_col14 {\n",
       "  background-color: #b40426;\n",
       "  color: #f1f1f1;\n",
       "}\n",
       "#T_73a90_row0_col1, #T_73a90_row0_col2, #T_73a90_row5_col13, #T_73a90_row6_col12, #T_73a90_row7_col14 {\n",
       "  background-color: #4358cb;\n",
       "  color: #f1f1f1;\n",
       "}\n",
       "#T_73a90_row0_col3, #T_73a90_row1_col9, #T_73a90_row2_col9, #T_73a90_row3_col0, #T_73a90_row3_col14, #T_73a90_row6_col1, #T_73a90_row6_col2, #T_73a90_row7_col12, #T_73a90_row8_col14, #T_73a90_row9_col1, #T_73a90_row10_col1, #T_73a90_row10_col13, #T_73a90_row11_col9, #T_73a90_row12_col6, #T_73a90_row12_col7, #T_73a90_row12_col11, #T_73a90_row13_col4, #T_73a90_row13_col5, #T_73a90_row13_col8, #T_73a90_row13_col10 {\n",
       "  background-color: #3b4cc0;\n",
       "  color: #f1f1f1;\n",
       "}\n",
       "#T_73a90_row0_col4, #T_73a90_row12_col10 {\n",
       "  background-color: #506bda;\n",
       "  color: #f1f1f1;\n",
       "}\n",
       "#T_73a90_row0_col5, #T_73a90_row8_col11, #T_73a90_row9_col14, #T_73a90_row10_col11, #T_73a90_row14_col9 {\n",
       "  background-color: #536edd;\n",
       "  color: #f1f1f1;\n",
       "}\n",
       "#T_73a90_row0_col6, #T_73a90_row1_col5, #T_73a90_row2_col5, #T_73a90_row5_col0, #T_73a90_row5_col11, #T_73a90_row7_col11, #T_73a90_row10_col12, #T_73a90_row11_col12, #T_73a90_row14_col3 {\n",
       "  background-color: #5673e0;\n",
       "  color: #f1f1f1;\n",
       "}\n",
       "#T_73a90_row0_col7, #T_73a90_row5_col3, #T_73a90_row14_col7 {\n",
       "  background-color: #6b8df0;\n",
       "  color: #f1f1f1;\n",
       "}\n",
       "#T_73a90_row0_col8, #T_73a90_row1_col11, #T_73a90_row2_col11, #T_73a90_row6_col11, #T_73a90_row8_col2, #T_73a90_row12_col4, #T_73a90_row14_col4 {\n",
       "  background-color: #4b64d5;\n",
       "  color: #f1f1f1;\n",
       "}\n",
       "#T_73a90_row0_col9 {\n",
       "  background-color: #9bbcff;\n",
       "  color: #000000;\n",
       "}\n",
       "#T_73a90_row0_col10, #T_73a90_row3_col7, #T_73a90_row10_col9 {\n",
       "  background-color: #7b9ff9;\n",
       "  color: #f1f1f1;\n",
       "}\n",
       "#T_73a90_row0_col11, #T_73a90_row11_col14, #T_73a90_row12_col8 {\n",
       "  background-color: #4257c9;\n",
       "  color: #f1f1f1;\n",
       "}\n",
       "#T_73a90_row0_col12 {\n",
       "  background-color: #9dbdff;\n",
       "  color: #000000;\n",
       "}\n",
       "#T_73a90_row0_col13, #T_73a90_row8_col10 {\n",
       "  background-color: #cdd9ec;\n",
       "  color: #000000;\n",
       "}\n",
       "#T_73a90_row0_col14 {\n",
       "  background-color: #5b7ae5;\n",
       "  color: #f1f1f1;\n",
       "}\n",
       "#T_73a90_row1_col0, #T_73a90_row1_col8, #T_73a90_row2_col0, #T_73a90_row2_col10, #T_73a90_row4_col0 {\n",
       "  background-color: #5e7de7;\n",
       "  color: #f1f1f1;\n",
       "}\n",
       "#T_73a90_row1_col3, #T_73a90_row3_col8, #T_73a90_row7_col13, #T_73a90_row9_col4, #T_73a90_row14_col5 {\n",
       "  background-color: #5a78e4;\n",
       "  color: #f1f1f1;\n",
       "}\n",
       "#T_73a90_row1_col4, #T_73a90_row4_col2 {\n",
       "  background-color: #d1493f;\n",
       "  color: #f1f1f1;\n",
       "}\n",
       "#T_73a90_row1_col6, #T_73a90_row2_col3, #T_73a90_row2_col6, #T_73a90_row7_col1, #T_73a90_row7_col2, #T_73a90_row11_col8, #T_73a90_row12_col3 {\n",
       "  background-color: #5977e3;\n",
       "  color: #f1f1f1;\n",
       "}\n",
       "#T_73a90_row1_col7, #T_73a90_row2_col7 {\n",
       "  background-color: #80a3fa;\n",
       "  color: #f1f1f1;\n",
       "}\n",
       "#T_73a90_row1_col10, #T_73a90_row2_col8, #T_73a90_row9_col3 {\n",
       "  background-color: #5d7ce6;\n",
       "  color: #f1f1f1;\n",
       "}\n",
       "#T_73a90_row1_col12, #T_73a90_row3_col6, #T_73a90_row4_col12 {\n",
       "  background-color: #6687ed;\n",
       "  color: #f1f1f1;\n",
       "}\n",
       "#T_73a90_row1_col13, #T_73a90_row2_col13, #T_73a90_row13_col6, #T_73a90_row13_col7 {\n",
       "  background-color: #6180e9;\n",
       "  color: #f1f1f1;\n",
       "}\n",
       "#T_73a90_row1_col14, #T_73a90_row2_col14, #T_73a90_row5_col2, #T_73a90_row12_col1 {\n",
       "  background-color: #3e51c5;\n",
       "  color: #f1f1f1;\n",
       "}\n",
       "#T_73a90_row2_col4 {\n",
       "  background-color: #d0473d;\n",
       "  color: #f1f1f1;\n",
       "}\n",
       "#T_73a90_row2_col12, #T_73a90_row3_col12, #T_73a90_row8_col3, #T_73a90_row11_col3 {\n",
       "  background-color: #6485ec;\n",
       "  color: #f1f1f1;\n",
       "}\n",
       "#T_73a90_row3_col1, #T_73a90_row5_col1, #T_73a90_row11_col1, #T_73a90_row11_col2, #T_73a90_row13_col2, #T_73a90_row13_col3, #T_73a90_row14_col1, #T_73a90_row14_col2 {\n",
       "  background-color: #3f53c6;\n",
       "  color: #f1f1f1;\n",
       "}\n",
       "#T_73a90_row3_col2, #T_73a90_row4_col14, #T_73a90_row10_col2, #T_73a90_row12_col2, #T_73a90_row12_col5 {\n",
       "  background-color: #3d50c3;\n",
       "  color: #f1f1f1;\n",
       "}\n",
       "#T_73a90_row3_col4, #T_73a90_row9_col11 {\n",
       "  background-color: #465ecf;\n",
       "  color: #f1f1f1;\n",
       "}\n",
       "#T_73a90_row3_col5, #T_73a90_row10_col3, #T_73a90_row11_col10 {\n",
       "  background-color: #688aef;\n",
       "  color: #f1f1f1;\n",
       "}\n",
       "#T_73a90_row3_col9, #T_73a90_row5_col14, #T_73a90_row6_col14, #T_73a90_row10_col14, #T_73a90_row13_col1 {\n",
       "  background-color: #4055c8;\n",
       "  color: #f1f1f1;\n",
       "}\n",
       "#T_73a90_row3_col10, #T_73a90_row14_col12 {\n",
       "  background-color: #6e90f2;\n",
       "  color: #f1f1f1;\n",
       "}\n",
       "#T_73a90_row3_col11, #T_73a90_row4_col3, #T_73a90_row4_col11 {\n",
       "  background-color: #5572df;\n",
       "  color: #f1f1f1;\n",
       "}\n",
       "#T_73a90_row3_col13, #T_73a90_row12_col14 {\n",
       "  background-color: #455cce;\n",
       "  color: #f1f1f1;\n",
       "}\n",
       "#T_73a90_row4_col1 {\n",
       "  background-color: #d24b40;\n",
       "  color: #f1f1f1;\n",
       "}\n",
       "#T_73a90_row4_col5, #T_73a90_row13_col12 {\n",
       "  background-color: #8caffe;\n",
       "  color: #000000;\n",
       "}\n",
       "#T_73a90_row4_col6, #T_73a90_row6_col3 {\n",
       "  background-color: #6282ea;\n",
       "  color: #f1f1f1;\n",
       "}\n",
       "#T_73a90_row4_col7 {\n",
       "  background-color: #a9c6fd;\n",
       "  color: #000000;\n",
       "}\n",
       "#T_73a90_row4_col8, #T_73a90_row7_col4 {\n",
       "  background-color: #93b5fe;\n",
       "  color: #000000;\n",
       "}\n",
       "#T_73a90_row4_col9, #T_73a90_row5_col12, #T_73a90_row8_col1, #T_73a90_row13_col11 {\n",
       "  background-color: #4c66d6;\n",
       "  color: #f1f1f1;\n",
       "}\n",
       "#T_73a90_row4_col10, #T_73a90_row8_col4 {\n",
       "  background-color: #8fb1fe;\n",
       "  color: #000000;\n",
       "}\n",
       "#T_73a90_row4_col13, #T_73a90_row14_col8, #T_73a90_row14_col11 {\n",
       "  background-color: #4e68d8;\n",
       "  color: #f1f1f1;\n",
       "}\n",
       "#T_73a90_row5_col4 {\n",
       "  background-color: #81a4fb;\n",
       "  color: #f1f1f1;\n",
       "}\n",
       "#T_73a90_row5_col6, #T_73a90_row7_col10 {\n",
       "  background-color: #eed0c0;\n",
       "  color: #000000;\n",
       "}\n",
       "#T_73a90_row5_col7 {\n",
       "  background-color: #e36c55;\n",
       "  color: #f1f1f1;\n",
       "}\n",
       "#T_73a90_row5_col8 {\n",
       "  background-color: #f6a283;\n",
       "  color: #000000;\n",
       "}\n",
       "#T_73a90_row5_col9 {\n",
       "  background-color: #7a9df8;\n",
       "  color: #f1f1f1;\n",
       "}\n",
       "#T_73a90_row5_col10 {\n",
       "  background-color: #f2cab5;\n",
       "  color: #000000;\n",
       "}\n",
       "#T_73a90_row6_col0, #T_73a90_row8_col0 {\n",
       "  background-color: #5470de;\n",
       "  color: #f1f1f1;\n",
       "}\n",
       "#T_73a90_row6_col4, #T_73a90_row11_col0 {\n",
       "  background-color: #516ddb;\n",
       "  color: #f1f1f1;\n",
       "}\n",
       "#T_73a90_row6_col5 {\n",
       "  background-color: #edd2c3;\n",
       "  color: #000000;\n",
       "}\n",
       "#T_73a90_row6_col7 {\n",
       "  background-color: #f6bea4;\n",
       "  color: #000000;\n",
       "}\n",
       "#T_73a90_row6_col8 {\n",
       "  background-color: #c5d6f2;\n",
       "  color: #000000;\n",
       "}\n",
       "#T_73a90_row6_col9 {\n",
       "  background-color: #6788ee;\n",
       "  color: #f1f1f1;\n",
       "}\n",
       "#T_73a90_row6_col10 {\n",
       "  background-color: #bcd2f7;\n",
       "  color: #000000;\n",
       "}\n",
       "#T_73a90_row6_col13, #T_73a90_row11_col5, #T_73a90_row11_col13, #T_73a90_row14_col10 {\n",
       "  background-color: #6384eb;\n",
       "  color: #f1f1f1;\n",
       "}\n",
       "#T_73a90_row7_col0, #T_73a90_row11_col6, #T_73a90_row14_col6 {\n",
       "  background-color: #5f7fe8;\n",
       "  color: #f1f1f1;\n",
       "}\n",
       "#T_73a90_row7_col3, #T_73a90_row7_col9, #T_73a90_row12_col9 {\n",
       "  background-color: #6f92f3;\n",
       "  color: #f1f1f1;\n",
       "}\n",
       "#T_73a90_row7_col5 {\n",
       "  background-color: #e57058;\n",
       "  color: #f1f1f1;\n",
       "}\n",
       "#T_73a90_row7_col6 {\n",
       "  background-color: #f5c1a9;\n",
       "  color: #000000;\n",
       "}\n",
       "#T_73a90_row7_col8 {\n",
       "  background-color: #f7b89c;\n",
       "  color: #000000;\n",
       "}\n",
       "#T_73a90_row8_col5 {\n",
       "  background-color: #f5a081;\n",
       "  color: #000000;\n",
       "}\n",
       "#T_73a90_row8_col6 {\n",
       "  background-color: #ccd9ed;\n",
       "  color: #000000;\n",
       "}\n",
       "#T_73a90_row8_col7 {\n",
       "  background-color: #f7b093;\n",
       "  color: #000000;\n",
       "}\n",
       "#T_73a90_row8_col9 {\n",
       "  background-color: #7093f3;\n",
       "  color: #f1f1f1;\n",
       "}\n",
       "#T_73a90_row8_col12, #T_73a90_row11_col4 {\n",
       "  background-color: #5875e1;\n",
       "  color: #f1f1f1;\n",
       "}\n",
       "#T_73a90_row8_col13 {\n",
       "  background-color: #4a63d3;\n",
       "  color: #f1f1f1;\n",
       "}\n",
       "#T_73a90_row9_col0 {\n",
       "  background-color: #b2ccfb;\n",
       "  color: #000000;\n",
       "}\n",
       "#T_73a90_row9_col2 {\n",
       "  background-color: #3c4ec2;\n",
       "  color: #f1f1f1;\n",
       "}\n",
       "#T_73a90_row9_col5 {\n",
       "  background-color: #90b2fe;\n",
       "  color: #000000;\n",
       "}\n",
       "#T_73a90_row9_col6, #T_73a90_row12_col13 {\n",
       "  background-color: #85a8fc;\n",
       "  color: #f1f1f1;\n",
       "}\n",
       "#T_73a90_row9_col7, #T_73a90_row9_col12 {\n",
       "  background-color: #94b6ff;\n",
       "  color: #000000;\n",
       "}\n",
       "#T_73a90_row9_col8 {\n",
       "  background-color: #82a6fb;\n",
       "  color: #f1f1f1;\n",
       "}\n",
       "#T_73a90_row9_col10 {\n",
       "  background-color: #9abbff;\n",
       "  color: #000000;\n",
       "}\n",
       "#T_73a90_row9_col13 {\n",
       "  background-color: #96b7ff;\n",
       "  color: #000000;\n",
       "}\n",
       "#T_73a90_row10_col0 {\n",
       "  background-color: #7699f6;\n",
       "  color: #f1f1f1;\n",
       "}\n",
       "#T_73a90_row10_col4 {\n",
       "  background-color: #7da0f9;\n",
       "  color: #f1f1f1;\n",
       "}\n",
       "#T_73a90_row10_col5 {\n",
       "  background-color: #f1cdba;\n",
       "  color: #000000;\n",
       "}\n",
       "#T_73a90_row10_col6 {\n",
       "  background-color: #bad0f8;\n",
       "  color: #000000;\n",
       "}\n",
       "#T_73a90_row10_col7 {\n",
       "  background-color: #f0cdbb;\n",
       "  color: #000000;\n",
       "}\n",
       "#T_73a90_row10_col8 {\n",
       "  background-color: #c4d5f3;\n",
       "  color: #000000;\n",
       "}\n",
       "#T_73a90_row11_col7 {\n",
       "  background-color: #7295f4;\n",
       "  color: #f1f1f1;\n",
       "}\n",
       "#T_73a90_row12_col0 {\n",
       "  background-color: #92b4fe;\n",
       "  color: #000000;\n",
       "}\n",
       "#T_73a90_row13_col0 {\n",
       "  background-color: #cbd8ee;\n",
       "  color: #000000;\n",
       "}\n",
       "#T_73a90_row13_col9, #T_73a90_row14_col0 {\n",
       "  background-color: #779af7;\n",
       "  color: #f1f1f1;\n",
       "}\n",
       "#T_73a90_row13_col14 {\n",
       "  background-color: #799cf8;\n",
       "  color: #f1f1f1;\n",
       "}\n",
       "#T_73a90_row14_col13 {\n",
       "  background-color: #98b9ff;\n",
       "  color: #000000;\n",
       "}\n",
       "</style>\n",
       "<table id=\"T_73a90\">\n",
       "  <thead>\n",
       "    <tr>\n",
       "      <th class=\"blank level0\" >&nbsp;</th>\n",
       "      <th id=\"T_73a90_level0_col0\" class=\"col_heading level0 col0\" >host_is_superhost</th>\n",
       "      <th id=\"T_73a90_level0_col1\" class=\"col_heading level0 col1\" >latitude</th>\n",
       "      <th id=\"T_73a90_level0_col2\" class=\"col_heading level0 col2\" >longitude</th>\n",
       "      <th id=\"T_73a90_level0_col3\" class=\"col_heading level0 col3\" >property_type</th>\n",
       "      <th id=\"T_73a90_level0_col4\" class=\"col_heading level0 col4\" >room_type</th>\n",
       "      <th id=\"T_73a90_level0_col5\" class=\"col_heading level0 col5\" >accommodates</th>\n",
       "      <th id=\"T_73a90_level0_col6\" class=\"col_heading level0 col6\" >bathrooms_text</th>\n",
       "      <th id=\"T_73a90_level0_col7\" class=\"col_heading level0 col7\" >bedrooms</th>\n",
       "      <th id=\"T_73a90_level0_col8\" class=\"col_heading level0 col8\" >beds</th>\n",
       "      <th id=\"T_73a90_level0_col9\" class=\"col_heading level0 col9\" >amenities</th>\n",
       "      <th id=\"T_73a90_level0_col10\" class=\"col_heading level0 col10\" >price</th>\n",
       "      <th id=\"T_73a90_level0_col11\" class=\"col_heading level0 col11\" >minimum_nights</th>\n",
       "      <th id=\"T_73a90_level0_col12\" class=\"col_heading level0 col12\" >number_of_reviews</th>\n",
       "      <th id=\"T_73a90_level0_col13\" class=\"col_heading level0 col13\" >review_scores_value</th>\n",
       "      <th id=\"T_73a90_level0_col14\" class=\"col_heading level0 col14\" >sentiment</th>\n",
       "    </tr>\n",
       "  </thead>\n",
       "  <tbody>\n",
       "    <tr>\n",
       "      <th id=\"T_73a90_level0_row0\" class=\"row_heading level0 row0\" >host_is_superhost</th>\n",
       "      <td id=\"T_73a90_row0_col0\" class=\"data row0 col0\" >1.00</td>\n",
       "      <td id=\"T_73a90_row0_col1\" class=\"data row0 col1\" >0.01</td>\n",
       "      <td id=\"T_73a90_row0_col2\" class=\"data row0 col2\" >0.01</td>\n",
       "      <td id=\"T_73a90_row0_col3\" class=\"data row0 col3\" >-0.12</td>\n",
       "      <td id=\"T_73a90_row0_col4\" class=\"data row0 col4\" >0.01</td>\n",
       "      <td id=\"T_73a90_row0_col5\" class=\"data row0 col5\" >-0.01</td>\n",
       "      <td id=\"T_73a90_row0_col6\" class=\"data row0 col6\" >-0.02</td>\n",
       "      <td id=\"T_73a90_row0_col7\" class=\"data row0 col7\" >0.02</td>\n",
       "      <td id=\"T_73a90_row0_col8\" class=\"data row0 col8\" >-0.02</td>\n",
       "      <td id=\"T_73a90_row0_col9\" class=\"data row0 col9\" >0.28</td>\n",
       "      <td id=\"T_73a90_row0_col10\" class=\"data row0 col10\" >0.09</td>\n",
       "      <td id=\"T_73a90_row0_col11\" class=\"data row0 col11\" >-0.03</td>\n",
       "      <td id=\"T_73a90_row0_col12\" class=\"data row0 col12\" >0.18</td>\n",
       "      <td id=\"T_73a90_row0_col13\" class=\"data row0 col13\" >0.37</td>\n",
       "      <td id=\"T_73a90_row0_col14\" class=\"data row0 col14\" >0.10</td>\n",
       "    </tr>\n",
       "    <tr>\n",
       "      <th id=\"T_73a90_level0_row1\" class=\"row_heading level0 row1\" >latitude</th>\n",
       "      <td id=\"T_73a90_row1_col0\" class=\"data row1 col0\" >0.01</td>\n",
       "      <td id=\"T_73a90_row1_col1\" class=\"data row1 col1\" >1.00</td>\n",
       "      <td id=\"T_73a90_row1_col2\" class=\"data row1 col2\" >1.00</td>\n",
       "      <td id=\"T_73a90_row1_col3\" class=\"data row1 col3\" >0.00</td>\n",
       "      <td id=\"T_73a90_row1_col4\" class=\"data row1 col4\" >0.91</td>\n",
       "      <td id=\"T_73a90_row1_col5\" class=\"data row1 col5\" >-0.00</td>\n",
       "      <td id=\"T_73a90_row1_col6\" class=\"data row1 col6\" >-0.02</td>\n",
       "      <td id=\"T_73a90_row1_col7\" class=\"data row1 col7\" >0.09</td>\n",
       "      <td id=\"T_73a90_row1_col8\" class=\"data row1 col8\" >0.04</td>\n",
       "      <td id=\"T_73a90_row1_col9\" class=\"data row1 col9\" >-0.01</td>\n",
       "      <td id=\"T_73a90_row1_col10\" class=\"data row1 col10\" >-0.01</td>\n",
       "      <td id=\"T_73a90_row1_col11\" class=\"data row1 col11\" >0.00</td>\n",
       "      <td id=\"T_73a90_row1_col12\" class=\"data row1 col12\" >-0.00</td>\n",
       "      <td id=\"T_73a90_row1_col13\" class=\"data row1 col13\" >0.00</td>\n",
       "      <td id=\"T_73a90_row1_col14\" class=\"data row1 col14\" >-0.00</td>\n",
       "    </tr>\n",
       "    <tr>\n",
       "      <th id=\"T_73a90_level0_row2\" class=\"row_heading level0 row2\" >longitude</th>\n",
       "      <td id=\"T_73a90_row2_col0\" class=\"data row2 col0\" >0.01</td>\n",
       "      <td id=\"T_73a90_row2_col1\" class=\"data row2 col1\" >1.00</td>\n",
       "      <td id=\"T_73a90_row2_col2\" class=\"data row2 col2\" >1.00</td>\n",
       "      <td id=\"T_73a90_row2_col3\" class=\"data row2 col3\" >-0.01</td>\n",
       "      <td id=\"T_73a90_row2_col4\" class=\"data row2 col4\" >0.91</td>\n",
       "      <td id=\"T_73a90_row2_col5\" class=\"data row2 col5\" >-0.00</td>\n",
       "      <td id=\"T_73a90_row2_col6\" class=\"data row2 col6\" >-0.02</td>\n",
       "      <td id=\"T_73a90_row2_col7\" class=\"data row2 col7\" >0.09</td>\n",
       "      <td id=\"T_73a90_row2_col8\" class=\"data row2 col8\" >0.04</td>\n",
       "      <td id=\"T_73a90_row2_col9\" class=\"data row2 col9\" >-0.01</td>\n",
       "      <td id=\"T_73a90_row2_col10\" class=\"data row2 col10\" >-0.01</td>\n",
       "      <td id=\"T_73a90_row2_col11\" class=\"data row2 col11\" >0.00</td>\n",
       "      <td id=\"T_73a90_row2_col12\" class=\"data row2 col12\" >-0.01</td>\n",
       "      <td id=\"T_73a90_row2_col13\" class=\"data row2 col13\" >0.00</td>\n",
       "      <td id=\"T_73a90_row2_col14\" class=\"data row2 col14\" >0.00</td>\n",
       "    </tr>\n",
       "    <tr>\n",
       "      <th id=\"T_73a90_level0_row3\" class=\"row_heading level0 row3\" >property_type</th>\n",
       "      <td id=\"T_73a90_row3_col0\" class=\"data row3 col0\" >-0.12</td>\n",
       "      <td id=\"T_73a90_row3_col1\" class=\"data row3 col1\" >0.00</td>\n",
       "      <td id=\"T_73a90_row3_col2\" class=\"data row3 col2\" >-0.01</td>\n",
       "      <td id=\"T_73a90_row3_col3\" class=\"data row3 col3\" >1.00</td>\n",
       "      <td id=\"T_73a90_row3_col4\" class=\"data row3 col4\" >-0.02</td>\n",
       "      <td id=\"T_73a90_row3_col5\" class=\"data row3 col5\" >0.06</td>\n",
       "      <td id=\"T_73a90_row3_col6\" class=\"data row3 col6\" >0.03</td>\n",
       "      <td id=\"T_73a90_row3_col7\" class=\"data row3 col7\" >0.07</td>\n",
       "      <td id=\"T_73a90_row3_col8\" class=\"data row3 col8\" >0.03</td>\n",
       "      <td id=\"T_73a90_row3_col9\" class=\"data row3 col9\" >0.01</td>\n",
       "      <td id=\"T_73a90_row3_col10\" class=\"data row3 col10\" >0.05</td>\n",
       "      <td id=\"T_73a90_row3_col11\" class=\"data row3 col11\" >0.04</td>\n",
       "      <td id=\"T_73a90_row3_col12\" class=\"data row3 col12\" >-0.00</td>\n",
       "      <td id=\"T_73a90_row3_col13\" class=\"data row3 col13\" >-0.10</td>\n",
       "      <td id=\"T_73a90_row3_col14\" class=\"data row3 col14\" >-0.01</td>\n",
       "    </tr>\n",
       "    <tr>\n",
       "      <th id=\"T_73a90_level0_row4\" class=\"row_heading level0 row4\" >room_type</th>\n",
       "      <td id=\"T_73a90_row4_col0\" class=\"data row4 col0\" >0.01</td>\n",
       "      <td id=\"T_73a90_row4_col1\" class=\"data row4 col1\" >0.91</td>\n",
       "      <td id=\"T_73a90_row4_col2\" class=\"data row4 col2\" >0.91</td>\n",
       "      <td id=\"T_73a90_row4_col3\" class=\"data row4 col3\" >-0.02</td>\n",
       "      <td id=\"T_73a90_row4_col4\" class=\"data row4 col4\" >1.00</td>\n",
       "      <td id=\"T_73a90_row4_col5\" class=\"data row4 col5\" >0.17</td>\n",
       "      <td id=\"T_73a90_row4_col6\" class=\"data row4 col6\" >0.02</td>\n",
       "      <td id=\"T_73a90_row4_col7\" class=\"data row4 col7\" >0.22</td>\n",
       "      <td id=\"T_73a90_row4_col8\" class=\"data row4 col8\" >0.21</td>\n",
       "      <td id=\"T_73a90_row4_col9\" class=\"data row4 col9\" >0.05</td>\n",
       "      <td id=\"T_73a90_row4_col10\" class=\"data row4 col10\" >0.15</td>\n",
       "      <td id=\"T_73a90_row4_col11\" class=\"data row4 col11\" >0.04</td>\n",
       "      <td id=\"T_73a90_row4_col12\" class=\"data row4 col12\" >-0.00</td>\n",
       "      <td id=\"T_73a90_row4_col13\" class=\"data row4 col13\" >-0.06</td>\n",
       "      <td id=\"T_73a90_row4_col14\" class=\"data row4 col14\" >-0.00</td>\n",
       "    </tr>\n",
       "    <tr>\n",
       "      <th id=\"T_73a90_level0_row5\" class=\"row_heading level0 row5\" >accommodates</th>\n",
       "      <td id=\"T_73a90_row5_col0\" class=\"data row5 col0\" >-0.01</td>\n",
       "      <td id=\"T_73a90_row5_col1\" class=\"data row5 col1\" >-0.00</td>\n",
       "      <td id=\"T_73a90_row5_col2\" class=\"data row5 col2\" >-0.00</td>\n",
       "      <td id=\"T_73a90_row5_col3\" class=\"data row5 col3\" >0.06</td>\n",
       "      <td id=\"T_73a90_row5_col4\" class=\"data row5 col4\" >0.17</td>\n",
       "      <td id=\"T_73a90_row5_col5\" class=\"data row5 col5\" >1.00</td>\n",
       "      <td id=\"T_73a90_row5_col6\" class=\"data row5 col6\" >0.52</td>\n",
       "      <td id=\"T_73a90_row5_col7\" class=\"data row5 col7\" >0.83</td>\n",
       "      <td id=\"T_73a90_row5_col8\" class=\"data row5 col8\" >0.71</td>\n",
       "      <td id=\"T_73a90_row5_col9\" class=\"data row5 col9\" >0.18</td>\n",
       "      <td id=\"T_73a90_row5_col10\" class=\"data row5 col10\" >0.55</td>\n",
       "      <td id=\"T_73a90_row5_col11\" class=\"data row5 col11\" >0.04</td>\n",
       "      <td id=\"T_73a90_row5_col12\" class=\"data row5 col12\" >-0.09</td>\n",
       "      <td id=\"T_73a90_row5_col13\" class=\"data row5 col13\" >-0.10</td>\n",
       "      <td id=\"T_73a90_row5_col14\" class=\"data row5 col14\" >0.01</td>\n",
       "    </tr>\n",
       "    <tr>\n",
       "      <th id=\"T_73a90_level0_row6\" class=\"row_heading level0 row6\" >bathrooms_text</th>\n",
       "      <td id=\"T_73a90_row6_col0\" class=\"data row6 col0\" >-0.02</td>\n",
       "      <td id=\"T_73a90_row6_col1\" class=\"data row6 col1\" >-0.02</td>\n",
       "      <td id=\"T_73a90_row6_col2\" class=\"data row6 col2\" >-0.02</td>\n",
       "      <td id=\"T_73a90_row6_col3\" class=\"data row6 col3\" >0.03</td>\n",
       "      <td id=\"T_73a90_row6_col4\" class=\"data row6 col4\" >0.02</td>\n",
       "      <td id=\"T_73a90_row6_col5\" class=\"data row6 col5\" >0.52</td>\n",
       "      <td id=\"T_73a90_row6_col6\" class=\"data row6 col6\" >1.00</td>\n",
       "      <td id=\"T_73a90_row6_col7\" class=\"data row6 col7\" >0.59</td>\n",
       "      <td id=\"T_73a90_row6_col8\" class=\"data row6 col8\" >0.37</td>\n",
       "      <td id=\"T_73a90_row6_col9\" class=\"data row6 col9\" >0.13</td>\n",
       "      <td id=\"T_73a90_row6_col10\" class=\"data row6 col10\" >0.30</td>\n",
       "      <td id=\"T_73a90_row6_col11\" class=\"data row6 col11\" >0.00</td>\n",
       "      <td id=\"T_73a90_row6_col12\" class=\"data row6 col12\" >-0.13</td>\n",
       "      <td id=\"T_73a90_row6_col13\" class=\"data row6 col13\" >0.01</td>\n",
       "      <td id=\"T_73a90_row6_col14\" class=\"data row6 col14\" >0.01</td>\n",
       "    </tr>\n",
       "    <tr>\n",
       "      <th id=\"T_73a90_level0_row7\" class=\"row_heading level0 row7\" >bedrooms</th>\n",
       "      <td id=\"T_73a90_row7_col0\" class=\"data row7 col0\" >0.02</td>\n",
       "      <td id=\"T_73a90_row7_col1\" class=\"data row7 col1\" >0.09</td>\n",
       "      <td id=\"T_73a90_row7_col2\" class=\"data row7 col2\" >0.09</td>\n",
       "      <td id=\"T_73a90_row7_col3\" class=\"data row7 col3\" >0.07</td>\n",
       "      <td id=\"T_73a90_row7_col4\" class=\"data row7 col4\" >0.22</td>\n",
       "      <td id=\"T_73a90_row7_col5\" class=\"data row7 col5\" >0.83</td>\n",
       "      <td id=\"T_73a90_row7_col6\" class=\"data row7 col6\" >0.59</td>\n",
       "      <td id=\"T_73a90_row7_col7\" class=\"data row7 col7\" >1.00</td>\n",
       "      <td id=\"T_73a90_row7_col8\" class=\"data row7 col8\" >0.64</td>\n",
       "      <td id=\"T_73a90_row7_col9\" class=\"data row7 col9\" >0.15</td>\n",
       "      <td id=\"T_73a90_row7_col10\" class=\"data row7 col10\" >0.52</td>\n",
       "      <td id=\"T_73a90_row7_col11\" class=\"data row7 col11\" >0.04</td>\n",
       "      <td id=\"T_73a90_row7_col12\" class=\"data row7 col12\" >-0.16</td>\n",
       "      <td id=\"T_73a90_row7_col13\" class=\"data row7 col13\" >-0.02</td>\n",
       "      <td id=\"T_73a90_row7_col14\" class=\"data row7 col14\" >0.02</td>\n",
       "    </tr>\n",
       "    <tr>\n",
       "      <th id=\"T_73a90_level0_row8\" class=\"row_heading level0 row8\" >beds</th>\n",
       "      <td id=\"T_73a90_row8_col0\" class=\"data row8 col0\" >-0.02</td>\n",
       "      <td id=\"T_73a90_row8_col1\" class=\"data row8 col1\" >0.04</td>\n",
       "      <td id=\"T_73a90_row8_col2\" class=\"data row8 col2\" >0.04</td>\n",
       "      <td id=\"T_73a90_row8_col3\" class=\"data row8 col3\" >0.03</td>\n",
       "      <td id=\"T_73a90_row8_col4\" class=\"data row8 col4\" >0.21</td>\n",
       "      <td id=\"T_73a90_row8_col5\" class=\"data row8 col5\" >0.71</td>\n",
       "      <td id=\"T_73a90_row8_col6\" class=\"data row8 col6\" >0.37</td>\n",
       "      <td id=\"T_73a90_row8_col7\" class=\"data row8 col7\" >0.64</td>\n",
       "      <td id=\"T_73a90_row8_col8\" class=\"data row8 col8\" >1.00</td>\n",
       "      <td id=\"T_73a90_row8_col9\" class=\"data row8 col9\" >0.16</td>\n",
       "      <td id=\"T_73a90_row8_col10\" class=\"data row8 col10\" >0.37</td>\n",
       "      <td id=\"T_73a90_row8_col11\" class=\"data row8 col11\" >0.03</td>\n",
       "      <td id=\"T_73a90_row8_col12\" class=\"data row8 col12\" >-0.05</td>\n",
       "      <td id=\"T_73a90_row8_col13\" class=\"data row8 col13\" >-0.08</td>\n",
       "      <td id=\"T_73a90_row8_col14\" class=\"data row8 col14\" >-0.01</td>\n",
       "    </tr>\n",
       "    <tr>\n",
       "      <th id=\"T_73a90_level0_row9\" class=\"row_heading level0 row9\" >amenities</th>\n",
       "      <td id=\"T_73a90_row9_col0\" class=\"data row9 col0\" >0.28</td>\n",
       "      <td id=\"T_73a90_row9_col1\" class=\"data row9 col1\" >-0.01</td>\n",
       "      <td id=\"T_73a90_row9_col2\" class=\"data row9 col2\" >-0.01</td>\n",
       "      <td id=\"T_73a90_row9_col3\" class=\"data row9 col3\" >0.01</td>\n",
       "      <td id=\"T_73a90_row9_col4\" class=\"data row9 col4\" >0.05</td>\n",
       "      <td id=\"T_73a90_row9_col5\" class=\"data row9 col5\" >0.18</td>\n",
       "      <td id=\"T_73a90_row9_col6\" class=\"data row9 col6\" >0.13</td>\n",
       "      <td id=\"T_73a90_row9_col7\" class=\"data row9 col7\" >0.15</td>\n",
       "      <td id=\"T_73a90_row9_col8\" class=\"data row9 col8\" >0.16</td>\n",
       "      <td id=\"T_73a90_row9_col9\" class=\"data row9 col9\" >1.00</td>\n",
       "      <td id=\"T_73a90_row9_col10\" class=\"data row9 col10\" >0.19</td>\n",
       "      <td id=\"T_73a90_row9_col11\" class=\"data row9 col11\" >-0.02</td>\n",
       "      <td id=\"T_73a90_row9_col12\" class=\"data row9 col12\" >0.15</td>\n",
       "      <td id=\"T_73a90_row9_col13\" class=\"data row9 col13\" >0.18</td>\n",
       "      <td id=\"T_73a90_row9_col14\" class=\"data row9 col14\" >0.07</td>\n",
       "    </tr>\n",
       "    <tr>\n",
       "      <th id=\"T_73a90_level0_row10\" class=\"row_heading level0 row10\" >price</th>\n",
       "      <td id=\"T_73a90_row10_col0\" class=\"data row10 col0\" >0.09</td>\n",
       "      <td id=\"T_73a90_row10_col1\" class=\"data row10 col1\" >-0.01</td>\n",
       "      <td id=\"T_73a90_row10_col2\" class=\"data row10 col2\" >-0.01</td>\n",
       "      <td id=\"T_73a90_row10_col3\" class=\"data row10 col3\" >0.05</td>\n",
       "      <td id=\"T_73a90_row10_col4\" class=\"data row10 col4\" >0.15</td>\n",
       "      <td id=\"T_73a90_row10_col5\" class=\"data row10 col5\" >0.55</td>\n",
       "      <td id=\"T_73a90_row10_col6\" class=\"data row10 col6\" >0.30</td>\n",
       "      <td id=\"T_73a90_row10_col7\" class=\"data row10 col7\" >0.52</td>\n",
       "      <td id=\"T_73a90_row10_col8\" class=\"data row10 col8\" >0.37</td>\n",
       "      <td id=\"T_73a90_row10_col9\" class=\"data row10 col9\" >0.19</td>\n",
       "      <td id=\"T_73a90_row10_col10\" class=\"data row10 col10\" >1.00</td>\n",
       "      <td id=\"T_73a90_row10_col11\" class=\"data row10 col11\" >0.03</td>\n",
       "      <td id=\"T_73a90_row10_col12\" class=\"data row10 col12\" >-0.06</td>\n",
       "      <td id=\"T_73a90_row10_col13\" class=\"data row10 col13\" >-0.14</td>\n",
       "      <td id=\"T_73a90_row10_col14\" class=\"data row10 col14\" >0.01</td>\n",
       "    </tr>\n",
       "    <tr>\n",
       "      <th id=\"T_73a90_level0_row11\" class=\"row_heading level0 row11\" >minimum_nights</th>\n",
       "      <td id=\"T_73a90_row11_col0\" class=\"data row11 col0\" >-0.03</td>\n",
       "      <td id=\"T_73a90_row11_col1\" class=\"data row11 col1\" >0.00</td>\n",
       "      <td id=\"T_73a90_row11_col2\" class=\"data row11 col2\" >0.00</td>\n",
       "      <td id=\"T_73a90_row11_col3\" class=\"data row11 col3\" >0.04</td>\n",
       "      <td id=\"T_73a90_row11_col4\" class=\"data row11 col4\" >0.04</td>\n",
       "      <td id=\"T_73a90_row11_col5\" class=\"data row11 col5\" >0.04</td>\n",
       "      <td id=\"T_73a90_row11_col6\" class=\"data row11 col6\" >0.00</td>\n",
       "      <td id=\"T_73a90_row11_col7\" class=\"data row11 col7\" >0.04</td>\n",
       "      <td id=\"T_73a90_row11_col8\" class=\"data row11 col8\" >0.03</td>\n",
       "      <td id=\"T_73a90_row11_col9\" class=\"data row11 col9\" >-0.02</td>\n",
       "      <td id=\"T_73a90_row11_col10\" class=\"data row11 col10\" >0.03</td>\n",
       "      <td id=\"T_73a90_row11_col11\" class=\"data row11 col11\" >1.00</td>\n",
       "      <td id=\"T_73a90_row11_col12\" class=\"data row11 col12\" >-0.06</td>\n",
       "      <td id=\"T_73a90_row11_col13\" class=\"data row11 col13\" >0.01</td>\n",
       "      <td id=\"T_73a90_row11_col14\" class=\"data row11 col14\" >0.01</td>\n",
       "    </tr>\n",
       "    <tr>\n",
       "      <th id=\"T_73a90_level0_row12\" class=\"row_heading level0 row12\" >number_of_reviews</th>\n",
       "      <td id=\"T_73a90_row12_col0\" class=\"data row12 col0\" >0.18</td>\n",
       "      <td id=\"T_73a90_row12_col1\" class=\"data row12 col1\" >-0.00</td>\n",
       "      <td id=\"T_73a90_row12_col2\" class=\"data row12 col2\" >-0.01</td>\n",
       "      <td id=\"T_73a90_row12_col3\" class=\"data row12 col3\" >-0.00</td>\n",
       "      <td id=\"T_73a90_row12_col4\" class=\"data row12 col4\" >-0.00</td>\n",
       "      <td id=\"T_73a90_row12_col5\" class=\"data row12 col5\" >-0.09</td>\n",
       "      <td id=\"T_73a90_row12_col6\" class=\"data row12 col6\" >-0.13</td>\n",
       "      <td id=\"T_73a90_row12_col7\" class=\"data row12 col7\" >-0.16</td>\n",
       "      <td id=\"T_73a90_row12_col8\" class=\"data row12 col8\" >-0.05</td>\n",
       "      <td id=\"T_73a90_row12_col9\" class=\"data row12 col9\" >0.15</td>\n",
       "      <td id=\"T_73a90_row12_col10\" class=\"data row12 col10\" >-0.06</td>\n",
       "      <td id=\"T_73a90_row12_col11\" class=\"data row12 col11\" >-0.06</td>\n",
       "      <td id=\"T_73a90_row12_col12\" class=\"data row12 col12\" >1.00</td>\n",
       "      <td id=\"T_73a90_row12_col13\" class=\"data row12 col13\" >0.12</td>\n",
       "      <td id=\"T_73a90_row12_col14\" class=\"data row12 col14\" >0.02</td>\n",
       "    </tr>\n",
       "    <tr>\n",
       "      <th id=\"T_73a90_level0_row13\" class=\"row_heading level0 row13\" >review_scores_value</th>\n",
       "      <td id=\"T_73a90_row13_col0\" class=\"data row13 col0\" >0.37</td>\n",
       "      <td id=\"T_73a90_row13_col1\" class=\"data row13 col1\" >0.00</td>\n",
       "      <td id=\"T_73a90_row13_col2\" class=\"data row13 col2\" >0.00</td>\n",
       "      <td id=\"T_73a90_row13_col3\" class=\"data row13 col3\" >-0.10</td>\n",
       "      <td id=\"T_73a90_row13_col4\" class=\"data row13 col4\" >-0.06</td>\n",
       "      <td id=\"T_73a90_row13_col5\" class=\"data row13 col5\" >-0.10</td>\n",
       "      <td id=\"T_73a90_row13_col6\" class=\"data row13 col6\" >0.01</td>\n",
       "      <td id=\"T_73a90_row13_col7\" class=\"data row13 col7\" >-0.02</td>\n",
       "      <td id=\"T_73a90_row13_col8\" class=\"data row13 col8\" >-0.08</td>\n",
       "      <td id=\"T_73a90_row13_col9\" class=\"data row13 col9\" >0.18</td>\n",
       "      <td id=\"T_73a90_row13_col10\" class=\"data row13 col10\" >-0.14</td>\n",
       "      <td id=\"T_73a90_row13_col11\" class=\"data row13 col11\" >0.01</td>\n",
       "      <td id=\"T_73a90_row13_col12\" class=\"data row13 col12\" >0.12</td>\n",
       "      <td id=\"T_73a90_row13_col13\" class=\"data row13 col13\" >1.00</td>\n",
       "      <td id=\"T_73a90_row13_col14\" class=\"data row13 col14\" >0.18</td>\n",
       "    </tr>\n",
       "    <tr>\n",
       "      <th id=\"T_73a90_level0_row14\" class=\"row_heading level0 row14\" >sentiment</th>\n",
       "      <td id=\"T_73a90_row14_col0\" class=\"data row14 col0\" >0.10</td>\n",
       "      <td id=\"T_73a90_row14_col1\" class=\"data row14 col1\" >-0.00</td>\n",
       "      <td id=\"T_73a90_row14_col2\" class=\"data row14 col2\" >0.00</td>\n",
       "      <td id=\"T_73a90_row14_col3\" class=\"data row14 col3\" >-0.01</td>\n",
       "      <td id=\"T_73a90_row14_col4\" class=\"data row14 col4\" >-0.00</td>\n",
       "      <td id=\"T_73a90_row14_col5\" class=\"data row14 col5\" >0.01</td>\n",
       "      <td id=\"T_73a90_row14_col6\" class=\"data row14 col6\" >0.01</td>\n",
       "      <td id=\"T_73a90_row14_col7\" class=\"data row14 col7\" >0.02</td>\n",
       "      <td id=\"T_73a90_row14_col8\" class=\"data row14 col8\" >-0.01</td>\n",
       "      <td id=\"T_73a90_row14_col9\" class=\"data row14 col9\" >0.07</td>\n",
       "      <td id=\"T_73a90_row14_col10\" class=\"data row14 col10\" >0.01</td>\n",
       "      <td id=\"T_73a90_row14_col11\" class=\"data row14 col11\" >0.01</td>\n",
       "      <td id=\"T_73a90_row14_col12\" class=\"data row14 col12\" >0.02</td>\n",
       "      <td id=\"T_73a90_row14_col13\" class=\"data row14 col13\" >0.18</td>\n",
       "      <td id=\"T_73a90_row14_col14\" class=\"data row14 col14\" >1.00</td>\n",
       "    </tr>\n",
       "  </tbody>\n",
       "</table>\n"
      ],
      "text/plain": [
       "<pandas.io.formats.style.Styler at 0x7fe14f999c10>"
      ]
     },
     "execution_count": 60,
     "metadata": {},
     "output_type": "execute_result"
    }
   ],
   "source": [
    "X.corr().style.background_gradient(cmap='coolwarm').set_precision(2)"
   ]
  },
  {
   "cell_type": "code",
   "execution_count": 66,
   "id": "f3c394f6",
   "metadata": {},
   "outputs": [
    {
     "data": {
      "image/png": "[encoded data removed]",
      "text/plain": [
       "<Figure size 432x288 with 1 Axes>"
      ]
     },
     "metadata": {
      "needs_background": "light"
     },
     "output_type": "display_data"
    }
   ],
   "source": [
    "for name, group in X.groupby('rating_bins'):\n",
    "    plt.hist(group['host_is_superhost'], label=name)\n",
    "    plt.xlabel('super host values')\n",
    "    plt.ylabel('count of values in each bin')\n",
    "    plt.legend()"
   ]
  },
  {
   "cell_type": "code",
   "execution_count": 64,
   "id": "d693fabf",
   "metadata": {},
   "outputs": [
    {
     "data": {
      "text/plain": [
       "<AxesSubplot:>"
      ]
     },
     "execution_count": 64,
     "metadata": {},
     "output_type": "execute_result"
    },
    {
     "data": {
      "image/png": "[encoded data removed]",
      "text/plain": [
       "<Figure size 432x288 with 1 Axes>"
      ]
     },
     "metadata": {
      "needs_background": "light"
     },
     "output_type": "display_data"
    }
   ],
   "source": [
    "X[X['host_is_superhost']==1].review_scores_value.hist(bins=10)"
   ]
  },
  {
   "cell_type": "code",
   "execution_count": 70,
   "id": "d186d3bd",
   "metadata": {},
   "outputs": [
    {
     "data": {
      "image/png": "[encoded data removed]",
      "text/plain": [
       "<Figure size 432x288 with 1 Axes>"
      ]
     },
     "metadata": {
      "needs_background": "light"
     },
     "output_type": "display_data"
    }
   ],
   "source": [
    "for name, group in X.groupby('rating_bins'):\n",
    "    plt.hist(group['number_of_reviews'], label=name)\n",
    "    plt.xlabel('super host values')\n",
    "    plt.ylabel('count of values in each bin')\n",
    "    plt.legend()"
   ]
  },
  {
   "cell_type": "code",
   "execution_count": 71,
   "id": "3d15228e",
   "metadata": {},
   "outputs": [
    {
     "name": "stdout",
     "output_type": "stream",
     "text": [
      "Mean, min, and max values :\n",
      "                  review_scores_value            \n",
      "                                 mean   min   max\n",
      "number_of_reviews                                \n",
      "1.0                          4.719207  4.00  5.00\n",
      "2.0                          4.729271  4.00  5.00\n",
      "3.0                          4.699568  4.00  5.00\n",
      "4.0                          4.713785  4.00  5.00\n",
      "5.0                          4.684400  4.00  5.00\n",
      "...                               ...   ...   ...\n",
      "594.0                        4.560000  4.56  4.56\n",
      "616.0                        4.920000  4.92  4.92\n",
      "640.0                        4.870000  4.87  4.87\n",
      "725.0                        4.800000  4.80  4.80\n",
      "770.0                        4.800000  4.80  4.80\n",
      "\n",
      "[356 rows x 3 columns]\n"
     ]
    }
   ],
   "source": [
    "result = X.groupby('number_of_reviews').agg({'review_scores_value': ['mean', 'min', 'max']})\n",
    "print(\"Mean, min, and max values :\")\n",
    "print(result)"
   ]
  },
  {
   "cell_type": "code",
   "execution_count": 81,
   "id": "e56a8e8c",
   "metadata": {},
   "outputs": [],
   "source": [
    "X = X.assign(\n",
    "    number_bins = pd.qcut(\n",
    "        X['number_of_reviews'],\n",
    "        q=10,\n",
    "        labels=[0,1,2,3,4,5,6,7,8,9]\n",
    "    )\n",
    ")"
   ]
  },
  {
   "cell_type": "code",
   "execution_count": 82,
   "id": "d175baf7",
   "metadata": {},
   "outputs": [
    {
     "data": {
      "text/plain": [
       "0    20972\n",
       "4    20874\n",
       "8    20818\n",
       "7    20599\n",
       "1    20216\n",
       "3    19996\n",
       "5    19956\n",
       "2    19948\n",
       "6    19903\n",
       "9    19340\n",
       "Name: number_bins, dtype: int64"
      ]
     },
     "execution_count": 82,
     "metadata": {},
     "output_type": "execute_result"
    }
   ],
   "source": [
    "X.number_bins.value_counts()"
   ]
  },
  {
   "cell_type": "code",
   "execution_count": 83,
   "id": "bc98d2e1",
   "metadata": {},
   "outputs": [
    {
     "name": "stdout",
     "output_type": "stream",
     "text": [
      "Mean, min, and max values :\n",
      "            review_scores_value            \n",
      "                           mean   min   max\n",
      "number_bins                                \n",
      "0                      4.675919  3.91  5.00\n",
      "1                      4.669396  3.94  5.00\n",
      "2                      4.669333  4.07  5.00\n",
      "3                      4.678005  4.01  4.99\n",
      "4                      4.694155  4.11  4.97\n",
      "5                      4.700264  4.21  4.97\n",
      "6                      4.702556  4.23  4.96\n",
      "7                      4.730189  4.21  4.95\n",
      "8                      4.734796  4.36  4.95\n",
      "9                      4.731968  4.24  4.96\n"
     ]
    }
   ],
   "source": [
    "result = X.groupby('number_bins').agg({'review_scores_value': ['mean', 'min', 'max']})\n",
    "print(\"Mean, min, and max values :\")\n",
    "print(result)"
   ]
  },
  {
   "cell_type": "code",
   "execution_count": 84,
   "id": "1cc0f8c2",
   "metadata": {},
   "outputs": [
    {
     "data": {
      "image/png": "[encoded data removed]",
      "text/plain": [
       "<Figure size 432x288 with 1 Axes>"
      ]
     },
     "metadata": {
      "needs_background": "light"
     },
     "output_type": "display_data"
    }
   ],
   "source": [
    "for name, group in X.groupby('number_bins'):\n",
    "    plt.hist(group['review_scores_value'], label=name)\n",
    "    plt.xlabel('super host values')\n",
    "    plt.ylabel('count of values in each bin')\n",
    "    plt.legend()"
   ]
  },
  {
   "cell_type": "code",
   "execution_count": 91,
   "id": "16a4b159",
   "metadata": {},
   "outputs": [
    {
     "data": {
      "image/png": "[encoded data removed]",
      "text/plain": [
       "<Figure size 576x216 with 2 Axes>"
      ]
     },
     "metadata": {
      "needs_background": "light"
     },
     "output_type": "display_data"
    }
   ],
   "source": [
    "fig, (ax1, ax2) = plt.subplots(1, 2, figsize=(8,3))\n",
    "fig.suptitle('Number of Reviews (Grouped) Relation to Score', fontsize=16, y=1)\n",
    "plt.subplots_adjust(top=0.80) # So that the suptitle does not overlap with the ax plot titles\n",
    "    \n",
    "X.groupby('number_bins').size().plot(kind='bar', ax=ax1, color=['firebrick', 'seagreen'])\n",
    "ax1.set_xticklabels(labels=[0, 1, 2, 3, 4, 5, 6, 7, 8, 9], rotation=0)\n",
    "ax1.set_title('Total type count')\n",
    "ax1.set_xlabel('Review Bins')\n",
    "ax1.set_ylabel('Category count')\n",
    "    \n",
    "X.groupby('number_bins').review_scores_value.mean().plot(kind='bar', ax=ax2, color=['firebrick', 'seagreen'])\n",
    "ax2.set_xticklabels(labels=[0, 1, 2, 3, 4, 5, 6, 7, 8, 9], rotation=0)\n",
    "ax2.set_title('Mean Review Score value based on type')\n",
    "ax2.set_xlabel('Review Bins')  \n",
    "ax2.set_ylabel('Score value of out 5')\n",
    "plt.show()"
   ]
  },
  {
   "cell_type": "code",
   "execution_count": 93,
   "id": "423a77b3",
   "metadata": {},
   "outputs": [
    {
     "data": {
      "text/plain": [
       "<AxesSubplot:>"
      ]
     },
     "execution_count": 93,
     "metadata": {},
     "output_type": "execute_result"
    },
    {
     "data": {
      "image/png": "[encoded data removed]",
      "text/plain": [
       "<Figure size 432x288 with 1 Axes>"
      ]
     },
     "metadata": {
      "needs_background": "light"
     },
     "output_type": "display_data"
    }
   ],
   "source": [
    "X.price.hist(bins=10)"
   ]
  },
  {
   "cell_type": "code",
   "execution_count": 44,
   "id": "8e9f9e9e",
   "metadata": {},
   "outputs": [],
   "source": [
    "X = X.assign(\n",
    "    price_bin = pd.cut(\n",
    "        X['price'],\n",
    "        bins=[0, 100, 200, 300, 400, 600, 1000],\n",
    "        duplicates='drop',\n",
    "        labels=['0-100','100-200', '200-300', '300-400', '400-600', '600-1000']\n",
    "    )\n",
    ")"
   ]
  },
  {
   "cell_type": "code",
   "execution_count": 95,
   "id": "1f611197",
   "metadata": {},
   "outputs": [
    {
     "name": "stdout",
     "output_type": "stream",
     "text": [
      "Mean, min, and max values :\n",
      "          review_scores_value           \n",
      "                         mean   min  max\n",
      "price_bin                               \n",
      "0-100                4.719467  3.94  5.0\n",
      "100-200              4.693825  3.91  5.0\n",
      "200-300              4.659534  3.94  5.0\n",
      "300-400              4.648269  3.93  5.0\n",
      "400-600              4.644434  3.93  5.0\n",
      "600-1000             4.632057  4.00  5.0\n"
     ]
    }
   ],
   "source": [
    "result = X.groupby('price_bin').agg({'review_scores_value': ['mean', 'min', 'max']})\n",
    "print(\"Mean, min, and max values :\")\n",
    "print(result)"
   ]
  },
  {
   "cell_type": "code",
   "execution_count": 96,
   "id": "4d3ece34",
   "metadata": {},
   "outputs": [
    {
     "data": {
      "text/plain": [
       "0-100       98916\n",
       "100-200     66018\n",
       "200-300     18863\n",
       "300-400     11326\n",
       "400-600      5180\n",
       "600-1000     2319\n",
       "Name: price_bin, dtype: int64"
      ]
     },
     "execution_count": 96,
     "metadata": {},
     "output_type": "execute_result"
    }
   ],
   "source": [
    "X.price_bin.value_counts()"
   ]
  },
  {
   "cell_type": "code",
   "execution_count": 45,
   "id": "2f546683",
   "metadata": {},
   "outputs": [
    {
     "data": {
      "image/png": "[encoded data removed]",
      "text/plain": [
       "<Figure size 576x216 with 2 Axes>"
      ]
     },
     "metadata": {
      "needs_background": "light"
     },
     "output_type": "display_data"
    }
   ],
   "source": [
    "fig, (ax1, ax2) = plt.subplots(1, 2, figsize=(8,3))\n",
    "fig.suptitle('Price(Bins) Relation to Score', fontsize=16, y=1)\n",
    "plt.subplots_adjust(top=0.80) # So that the suptitle does not overlap with the ax plot titles\n",
    "    \n",
    "X.groupby('price_bin').size().plot(kind='bar', ax=ax1, color=['#432371',\"#FAAE7B\", \"#bcbddc\", \"#efedf5\"])\n",
    "ax1.set_xticklabels(labels=[0, 1, 2, 3, 4, 5], rotation=0)\n",
    "ax1.set_title('Total type count')\n",
    "ax1.set_xlabel('Price Bins')\n",
    "ax1.set_ylabel('Category count')\n",
    "    \n",
    "X.groupby('price_bin').review_scores_value.mean().plot(kind='bar', ax=ax2, color=['#432371',\"#FAAE7B\", \"#bcbddc\", \"#efedf5\"])\n",
    "ax2.set_xticklabels(labels=[0, 1, 2, 3, 4, 5], rotation=0)\n",
    "ax2.set_title('Mean Review Score value based on type')\n",
    "ax2.set_xlabel('Price Bins')  \n",
    "ax2.set_ylabel('Score value of out 5')\n",
    "plt.show()"
   ]
  },
  {
   "cell_type": "code",
   "execution_count": 100,
   "id": "a60c9a6b",
   "metadata": {},
   "outputs": [],
   "source": [
    "all2 = []\n",
    "all3 = []\n",
    "for index, row in X.iterrows():\n",
    "    sen = row['number_of_reviews'] * row['sentiment']\n",
    "    tp = row['price'] * row['minimum_nights']\n",
    "    all2.append(sen)\n",
    "    all3.append(tp)\n",
    "\n",
    "X['rvw_sent_mod'] = all2\n",
    "X['total_price'] = all3\n"
   ]
  },
  {
   "cell_type": "code",
   "execution_count": 102,
   "id": "1d908128",
   "metadata": {},
   "outputs": [
    {
     "data": {
      "text/plain": [
       "count    202622.000000\n",
       "mean        812.797134\n",
       "std        3734.063072\n",
       "min           2.000000\n",
       "25%         100.000000\n",
       "50%         213.000000\n",
       "75%         510.000000\n",
       "max      273750.000000\n",
       "Name: total_price, dtype: float64"
      ]
     },
     "execution_count": 102,
     "metadata": {},
     "output_type": "execute_result"
    }
   ],
   "source": [
    "X['total_price'].describe()"
   ]
  },
  {
   "cell_type": "code",
   "execution_count": 118,
   "id": "381c69bd",
   "metadata": {},
   "outputs": [
    {
     "data": {
      "image/png": "[encoded data removed]",
      "text/plain": [
       "<Figure size 1440x288 with 1 Axes>"
      ]
     },
     "metadata": {
      "needs_background": "light"
     },
     "output_type": "display_data"
    }
   ],
   "source": [
    "# Distribution of prices from £0 to £1000\n",
    "plt.figure(figsize=(20,4))\n",
    "X.total_price.hist(bins=100, range=(0,2000))\n",
    "plt.margins(x=0)\n",
    "plt.axvline(X.total_price.mean(), color='orange', linestyle='--')\n",
    "plt.title(\"Airbnb advertised total price in Dublin up to 5000 Eur\", fontsize=16)\n",
    "plt.xlabel(\"Price\")\n",
    "plt.ylabel(\"Number of listings\")\n",
    "plt.show()"
   ]
  },
  {
   "cell_type": "code",
   "execution_count": 51,
   "id": "60e714a3",
   "metadata": {},
   "outputs": [
    {
     "data": {
      "text/plain": [
       "<AxesSubplot:>"
      ]
     },
     "execution_count": 51,
     "metadata": {},
     "output_type": "execute_result"
    },
    {
     "data": {
      "image/png": "[encoded data removed]",
      "text/plain": [
       "<Figure size 504x504 with 2 Axes>"
      ]
     },
     "metadata": {
      "needs_background": "light"
     },
     "output_type": "display_data"
    }
   ],
   "source": [
    "fig = plt.figure(figsize= (7,7))\n",
    "sns.heatmap(X.corr(), annot=False, vmax=1, cmap='viridis', square=False)"
   ]
  },
  {
   "cell_type": "code",
   "execution_count": 46,
   "id": "4839c924",
   "metadata": {},
   "outputs": [
    {
     "data": {
      "text/plain": [
       "1.000000    108091\n",
       "0.000000     91398\n",
       "3.000000      1928\n",
       "2.000000       995\n",
       "0.572438        10\n",
       "Name: room_type, dtype: int64"
      ]
     },
     "execution_count": 46,
     "metadata": {},
     "output_type": "execute_result"
    }
   ],
   "source": [
    "X.room_type.value_counts()"
   ]
  },
  {
   "cell_type": "code",
   "execution_count": 47,
   "id": "67292af2",
   "metadata": {},
   "outputs": [],
   "source": [
    "X.loc[~X.room_type.isin([0, 1, 2, 3]), 'room_type'] = 0"
   ]
  },
  {
   "cell_type": "code",
   "execution_count": 48,
   "id": "c8cc200e",
   "metadata": {},
   "outputs": [
    {
     "data": {
      "text/plain": [
       "1.0    108091\n",
       "0.0     91408\n",
       "3.0      1928\n",
       "2.0       995\n",
       "Name: room_type, dtype: int64"
      ]
     },
     "execution_count": 48,
     "metadata": {},
     "output_type": "execute_result"
    }
   ],
   "source": [
    "X.room_type.value_counts()"
   ]
  },
  {
   "cell_type": "code",
   "execution_count": 49,
   "id": "20fd4a47",
   "metadata": {},
   "outputs": [
    {
     "data": {
      "image/png": "[encoded data removed]",
      "text/plain": [
       "<Figure size 576x216 with 2 Axes>"
      ]
     },
     "metadata": {
      "needs_background": "light"
     },
     "output_type": "display_data"
    }
   ],
   "source": [
    "fig, (ax1, ax2) = plt.subplots(1, 2, figsize=(8,3))\n",
    "fig.suptitle('Room Type Relation to Score', fontsize=16, y=1)\n",
    "plt.subplots_adjust(top=0.80) # So that the suptitle does not overlap with the ax plot titles\n",
    "    \n",
    "X.groupby('room_type').size().plot(kind='bar', ax=ax1, color=['#432371',\"#FAAE7B\", \"#bcbddc\", \"#efedf5\"])\n",
    "ax1.set_xticklabels(labels=[0, 1, 2, 3], rotation=0)\n",
    "ax1.set_title('Total type count')\n",
    "ax1.set_xlabel('Room Bins')\n",
    "ax1.set_ylabel('Category count')\n",
    "    \n",
    "X.groupby('room_type').review_scores_value.mean().plot(kind='bar', ax=ax2, color=['#432371',\"#FAAE7B\", \"#bcbddc\", \"#efedf5\"])\n",
    "ax2.set_xticklabels(labels=[0, 1, 2, 3], rotation=0)\n",
    "ax2.set_title('Mean Review Score value based on type')\n",
    "ax2.set_xlabel('Room Bins')  \n",
    "ax2.set_ylabel('Score value of out 5')\n",
    "plt.show()"
   ]
  },
  {
   "cell_type": "code",
   "execution_count": 50,
   "id": "73a44451",
   "metadata": {},
   "outputs": [
    {
     "data": {
      "image/png": "[encoded data removed]",
      "text/plain": [
       "<Figure size 576x216 with 2 Axes>"
      ]
     },
     "metadata": {
      "needs_background": "light"
     },
     "output_type": "display_data"
    }
   ],
   "source": [
    "fig, (ax1, ax2) = plt.subplots(1, 2, figsize=(8,3))\n",
    "fig.suptitle('Property Type Relation to Score', fontsize=16, y=1)\n",
    "plt.subplots_adjust(top=0.80) # So that the suptitle does not overlap with the ax plot titles\n",
    "    \n",
    "X.groupby('property_type').size().plot(kind='bar', ax=ax1, color=['#432371',\"#FAAE7B\", \"#bcbddc\", \"#efedf5\"])\n",
    "ax1.set_xticklabels(labels=[0, 1, 2], rotation=0)\n",
    "ax1.set_title('Total type count')\n",
    "ax1.set_xlabel('Property Bins')\n",
    "ax1.set_ylabel('Category count')\n",
    "    \n",
    "X.groupby('property_type').review_scores_value.mean().plot(kind='bar', ax=ax2, color=['#432371',\"#FAAE7B\", \"#bcbddc\", \"#efedf5\"])\n",
    "ax2.set_xticklabels(labels=[0, 1, 2], rotation=0)\n",
    "ax2.set_title('Mean Review Score value based on type')\n",
    "ax2.set_xlabel('Property Bins')  \n",
    "ax2.set_ylabel('Score value of out 5')\n",
    "plt.show()"
   ]
  },
  {
   "cell_type": "code",
   "execution_count": 134,
   "id": "c56640ce",
   "metadata": {},
   "outputs": [],
   "source": [
    "X = X.groupby(\"id\", as_index=False).mean()"
   ]
  },
  {
   "cell_type": "code",
   "execution_count": 135,
   "id": "58042aa5",
   "metadata": {},
   "outputs": [
    {
     "data": {
      "text/plain": [
       "id                     4949\n",
       "host_is_superhost      4949\n",
       "latitude               4949\n",
       "longitude              4949\n",
       "property_type          4949\n",
       "room_type              4949\n",
       "accommodates           4949\n",
       "bathrooms_text         4949\n",
       "bedrooms               4949\n",
       "beds                   4949\n",
       "amenities              4949\n",
       "price                  4949\n",
       "minimum_nights         4949\n",
       "number_of_reviews      4949\n",
       "review_scores_value    4949\n",
       "sentiment              4949\n",
       "rvw_sent_mod           4949\n",
       "total_price            4949\n",
       "dtype: int64"
      ]
     },
     "execution_count": 135,
     "metadata": {},
     "output_type": "execute_result"
    }
   ],
   "source": [
    "X.count()"
   ]
  },
  {
   "cell_type": "code",
   "execution_count": null,
   "id": "c4908107",
   "metadata": {},
   "outputs": [],
   "source": []
  }
 ],
 "metadata": {
  "kernelspec": {
   "display_name": "Python 3 (ipykernel)",
   "language": "python",
   "name": "python3"
  },
  "language_info": {
   "codemirror_mode": {
    "name": "ipython",
    "version": 3
   },
   "file_extension": ".py",
   "mimetype": "text/x-python",
   "name": "python",
   "nbconvert_exporter": "python",
   "pygments_lexer": "ipython3",
   "version": "3.9.12"
  }
 },
 "nbformat": 4,
 "nbformat_minor": 5
}
