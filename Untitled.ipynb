{
 "cells": [
  {
   "cell_type": "code",
   "execution_count": 29,
   "id": "4725bad8",
   "metadata": {},
   "outputs": [],
   "source": [
    "import pandas as pd\n",
    "import numpy as np\n",
    "\n",
    "dc_listings = pd.read_csv('newfinal.csv')"
   ]
  },
  {
   "cell_type": "code",
   "execution_count": 30,
   "id": "15f59d37",
   "metadata": {},
   "outputs": [
    {
     "data": {
      "text/plain": [
       "Unnamed: 0.1                      0\n",
       "Unnamed: 0                        0\n",
       "id                                0\n",
       "host_is_superhost                 0\n",
       "latitude                          0\n",
       "longitude                         0\n",
       "property_type                     0\n",
       "room_type                         0\n",
       "bathrooms_text                   81\n",
       "beds                           2760\n",
       "amenities                         0\n",
       "price                             0\n",
       "minimum_nights                    0\n",
       "number_of_reviews                 0\n",
       "review_scores_rating              0\n",
       "review_scores_accuracy          143\n",
       "review_scores_cleanliness       142\n",
       "review_scores_checkin           148\n",
       "review_scores_communication     144\n",
       "review_scores_location          150\n",
       "review_scores_value             152\n",
       "comments                          0\n",
       "detect                            0\n",
       "sentiment                         0\n",
       "dtype: int64"
      ]
     },
     "execution_count": 30,
     "metadata": {},
     "output_type": "execute_result"
    }
   ],
   "source": [
    "dc_listings.isna().sum()"
   ]
  },
  {
   "cell_type": "code",
   "execution_count": 31,
   "id": "5f526d66",
   "metadata": {},
   "outputs": [],
   "source": [
    "scale_mapper = {\n",
    "    \"f\": 0,\n",
    "    \"t\": 1,\n",
    "}\n",
    "\n",
    "dc_listings['host_is_superhost'] = dc_listings['host_is_superhost'].replace(scale_mapper)\n",
    "\n",
    "import re\n",
    "# get the numerical value in column 'bathrooms_text'\n",
    "dc_listings['bathrooms_text'] = dc_listings['bathrooms_text'].str.extract(r'(\\d+\\.?\\d*)', expand=False)\n",
    "\n",
    "dc_listings['price'] = dc_listings['price'].str.extract(r'(\\d+\\.?\\d*)', expand=False)"
   ]
  },
  {
   "cell_type": "code",
   "execution_count": 32,
   "id": "be9e516c",
   "metadata": {},
   "outputs": [],
   "source": [
    "# dc_listings['bathrooms_text'].fillna(dc_listings['bathrooms_text'].mean(), inplace=True)\n",
    "dc_listings['beds'].fillna(dc_listings['beds'].mean(), inplace=True)\n",
    "# df_listing['price'].fillna(df_listing['price'].mean(), inplace=True)\n",
    "dc_listings['review_scores_rating'].fillna(dc_listings['review_scores_rating'].mean(), inplace=True)\n",
    "dc_listings['review_scores_accuracy'].fillna(dc_listings['review_scores_accuracy'].mean(), inplace=True)\n",
    "dc_listings['review_scores_cleanliness'].fillna(dc_listings['review_scores_cleanliness'].mean(), inplace=True)\n",
    "dc_listings['review_scores_checkin'].fillna(dc_listings['review_scores_checkin'].mean(), inplace=True)\n",
    "dc_listings['review_scores_communication'].fillna(dc_listings['review_scores_communication'].mean(), inplace=True)\n",
    "dc_listings['review_scores_location'].fillna(dc_listings['review_scores_location'].mean(), inplace=True)"
   ]
  },
  {
   "cell_type": "code",
   "execution_count": 33,
   "id": "01dab6ef",
   "metadata": {},
   "outputs": [],
   "source": [
    "dc_listings= dc_listings.drop('Unnamed: 0.1',axis=1)\n",
    "dc_listings= dc_listings.drop('Unnamed: 0',axis=1)\n",
    "dc_listings= dc_listings.drop('comments',axis=1)\n",
    "dc_listings= dc_listings.drop('detect',axis=1)\n",
    "dc_listings.to_csv(\"finalnew.csv\")"
   ]
  },
  {
   "cell_type": "code",
   "execution_count": 34,
   "id": "cc217bfe",
   "metadata": {},
   "outputs": [
    {
     "data": {
      "text/html": [
       "<div>\n",
       "<style scoped>\n",
       "    .dataframe tbody tr th:only-of-type {\n",
       "        vertical-align: middle;\n",
       "    }\n",
       "\n",
       "    .dataframe tbody tr th {\n",
       "        vertical-align: top;\n",
       "    }\n",
       "\n",
       "    .dataframe thead th {\n",
       "        text-align: right;\n",
       "    }\n",
       "</style>\n",
       "<table border=\"1\" class=\"dataframe\">\n",
       "  <thead>\n",
       "    <tr style=\"text-align: right;\">\n",
       "      <th></th>\n",
       "      <th>id</th>\n",
       "      <th>host_is_superhost</th>\n",
       "      <th>latitude</th>\n",
       "      <th>longitude</th>\n",
       "      <th>beds</th>\n",
       "      <th>amenities</th>\n",
       "      <th>price</th>\n",
       "      <th>minimum_nights</th>\n",
       "      <th>number_of_reviews</th>\n",
       "      <th>review_scores_rating</th>\n",
       "      <th>review_scores_accuracy</th>\n",
       "      <th>review_scores_cleanliness</th>\n",
       "      <th>review_scores_checkin</th>\n",
       "      <th>review_scores_communication</th>\n",
       "      <th>review_scores_location</th>\n",
       "      <th>review_scores_value</th>\n",
       "      <th>sentiment</th>\n",
       "    </tr>\n",
       "  </thead>\n",
       "  <tbody>\n",
       "    <tr>\n",
       "      <th>0</th>\n",
       "      <td>44077</td>\n",
       "      <td>1.0</td>\n",
       "      <td>53.29178</td>\n",
       "      <td>-6.25792</td>\n",
       "      <td>2.0</td>\n",
       "      <td>113.0</td>\n",
       "      <td>70.0</td>\n",
       "      <td>3.0</td>\n",
       "      <td>258.0</td>\n",
       "      <td>4.78</td>\n",
       "      <td>4.83</td>\n",
       "      <td>4.74</td>\n",
       "      <td>4.93</td>\n",
       "      <td>4.93</td>\n",
       "      <td>4.66</td>\n",
       "      <td>4.82</td>\n",
       "      <td>0.898396</td>\n",
       "    </tr>\n",
       "    <tr>\n",
       "      <th>1</th>\n",
       "      <td>85156</td>\n",
       "      <td>1.0</td>\n",
       "      <td>53.29209</td>\n",
       "      <td>-6.25624</td>\n",
       "      <td>1.0</td>\n",
       "      <td>72.0</td>\n",
       "      <td>67.0</td>\n",
       "      <td>3.0</td>\n",
       "      <td>210.0</td>\n",
       "      <td>4.79</td>\n",
       "      <td>4.86</td>\n",
       "      <td>4.74</td>\n",
       "      <td>4.90</td>\n",
       "      <td>4.88</td>\n",
       "      <td>4.64</td>\n",
       "      <td>4.78</td>\n",
       "      <td>0.904346</td>\n",
       "    </tr>\n",
       "    <tr>\n",
       "      <th>2</th>\n",
       "      <td>159889</td>\n",
       "      <td>0.0</td>\n",
       "      <td>53.39027</td>\n",
       "      <td>-6.23547</td>\n",
       "      <td>1.0</td>\n",
       "      <td>56.0</td>\n",
       "      <td>45.0</td>\n",
       "      <td>2.0</td>\n",
       "      <td>355.0</td>\n",
       "      <td>4.74</td>\n",
       "      <td>4.77</td>\n",
       "      <td>4.71</td>\n",
       "      <td>4.86</td>\n",
       "      <td>4.90</td>\n",
       "      <td>4.63</td>\n",
       "      <td>4.74</td>\n",
       "      <td>0.818367</td>\n",
       "    </tr>\n",
       "    <tr>\n",
       "      <th>3</th>\n",
       "      <td>162809</td>\n",
       "      <td>1.0</td>\n",
       "      <td>53.28326</td>\n",
       "      <td>-6.19188</td>\n",
       "      <td>4.0</td>\n",
       "      <td>102.0</td>\n",
       "      <td>80.0</td>\n",
       "      <td>1.0</td>\n",
       "      <td>326.0</td>\n",
       "      <td>4.84</td>\n",
       "      <td>4.88</td>\n",
       "      <td>4.85</td>\n",
       "      <td>4.95</td>\n",
       "      <td>4.97</td>\n",
       "      <td>4.77</td>\n",
       "      <td>4.85</td>\n",
       "      <td>0.867712</td>\n",
       "    </tr>\n",
       "    <tr>\n",
       "      <th>4</th>\n",
       "      <td>165828</td>\n",
       "      <td>0.0</td>\n",
       "      <td>53.33744</td>\n",
       "      <td>-6.32363</td>\n",
       "      <td>3.0</td>\n",
       "      <td>53.0</td>\n",
       "      <td>251.0</td>\n",
       "      <td>3.0</td>\n",
       "      <td>64.0</td>\n",
       "      <td>4.63</td>\n",
       "      <td>4.89</td>\n",
       "      <td>4.69</td>\n",
       "      <td>4.81</td>\n",
       "      <td>4.75</td>\n",
       "      <td>4.34</td>\n",
       "      <td>4.55</td>\n",
       "      <td>0.795085</td>\n",
       "    </tr>\n",
       "  </tbody>\n",
       "</table>\n",
       "</div>"
      ],
      "text/plain": [
       "       id  host_is_superhost  latitude  longitude  beds  amenities  price  \\\n",
       "0   44077                1.0  53.29178   -6.25792   2.0      113.0   70.0   \n",
       "1   85156                1.0  53.29209   -6.25624   1.0       72.0   67.0   \n",
       "2  159889                0.0  53.39027   -6.23547   1.0       56.0   45.0   \n",
       "3  162809                1.0  53.28326   -6.19188   4.0      102.0   80.0   \n",
       "4  165828                0.0  53.33744   -6.32363   3.0       53.0  251.0   \n",
       "\n",
       "   minimum_nights  number_of_reviews  review_scores_rating  \\\n",
       "0             3.0              258.0                  4.78   \n",
       "1             3.0              210.0                  4.79   \n",
       "2             2.0              355.0                  4.74   \n",
       "3             1.0              326.0                  4.84   \n",
       "4             3.0               64.0                  4.63   \n",
       "\n",
       "   review_scores_accuracy  review_scores_cleanliness  review_scores_checkin  \\\n",
       "0                    4.83                       4.74                   4.93   \n",
       "1                    4.86                       4.74                   4.90   \n",
       "2                    4.77                       4.71                   4.86   \n",
       "3                    4.88                       4.85                   4.95   \n",
       "4                    4.89                       4.69                   4.81   \n",
       "\n",
       "   review_scores_communication  review_scores_location  review_scores_value  \\\n",
       "0                         4.93                    4.66                 4.82   \n",
       "1                         4.88                    4.64                 4.78   \n",
       "2                         4.90                    4.63                 4.74   \n",
       "3                         4.97                    4.77                 4.85   \n",
       "4                         4.75                    4.34                 4.55   \n",
       "\n",
       "   sentiment  \n",
       "0   0.898396  \n",
       "1   0.904346  \n",
       "2   0.818367  \n",
       "3   0.867712  \n",
       "4   0.795085  "
      ]
     },
     "execution_count": 34,
     "metadata": {},
     "output_type": "execute_result"
    }
   ],
   "source": [
    "dc_listings.price = pd.to_numeric(dc_listings.price)\n",
    "dc_listings = dc_listings.groupby(\"id\", as_index=False).mean()\n",
    "dc_listings.head()"
   ]
  },
  {
   "cell_type": "code",
   "execution_count": 44,
   "id": "4ffd54d2",
   "metadata": {},
   "outputs": [
    {
     "data": {
      "text/html": [
       "<div>\n",
       "<style scoped>\n",
       "    .dataframe tbody tr th:only-of-type {\n",
       "        vertical-align: middle;\n",
       "    }\n",
       "\n",
       "    .dataframe tbody tr th {\n",
       "        vertical-align: top;\n",
       "    }\n",
       "\n",
       "    .dataframe thead th {\n",
       "        text-align: right;\n",
       "    }\n",
       "</style>\n",
       "<table border=\"1\" class=\"dataframe\">\n",
       "  <thead>\n",
       "    <tr style=\"text-align: right;\">\n",
       "      <th></th>\n",
       "      <th>id</th>\n",
       "      <th>host_is_superhost</th>\n",
       "      <th>latitude</th>\n",
       "      <th>longitude</th>\n",
       "      <th>beds</th>\n",
       "      <th>amenities</th>\n",
       "      <th>price</th>\n",
       "      <th>minimum_nights</th>\n",
       "      <th>number_of_reviews</th>\n",
       "      <th>review_scores_rating</th>\n",
       "      <th>review_scores_accuracy</th>\n",
       "      <th>review_scores_cleanliness</th>\n",
       "      <th>review_scores_checkin</th>\n",
       "      <th>review_scores_communication</th>\n",
       "      <th>review_scores_location</th>\n",
       "      <th>review_scores_value</th>\n",
       "      <th>sentiment</th>\n",
       "      <th>review_mult_sent</th>\n",
       "      <th>total_exp</th>\n",
       "    </tr>\n",
       "  </thead>\n",
       "  <tbody>\n",
       "    <tr>\n",
       "      <th>0</th>\n",
       "      <td>44077</td>\n",
       "      <td>1.0</td>\n",
       "      <td>53.29178</td>\n",
       "      <td>-6.25792</td>\n",
       "      <td>2.0</td>\n",
       "      <td>113.0</td>\n",
       "      <td>70.0</td>\n",
       "      <td>3.0</td>\n",
       "      <td>258.0</td>\n",
       "      <td>4.78</td>\n",
       "      <td>4.83</td>\n",
       "      <td>4.74</td>\n",
       "      <td>4.93</td>\n",
       "      <td>4.93</td>\n",
       "      <td>4.66</td>\n",
       "      <td>4.82</td>\n",
       "      <td>0.898396</td>\n",
       "      <td>231.786244</td>\n",
       "      <td>210.0</td>\n",
       "    </tr>\n",
       "    <tr>\n",
       "      <th>1</th>\n",
       "      <td>85156</td>\n",
       "      <td>1.0</td>\n",
       "      <td>53.29209</td>\n",
       "      <td>-6.25624</td>\n",
       "      <td>1.0</td>\n",
       "      <td>72.0</td>\n",
       "      <td>67.0</td>\n",
       "      <td>3.0</td>\n",
       "      <td>210.0</td>\n",
       "      <td>4.79</td>\n",
       "      <td>4.86</td>\n",
       "      <td>4.74</td>\n",
       "      <td>4.90</td>\n",
       "      <td>4.88</td>\n",
       "      <td>4.64</td>\n",
       "      <td>4.78</td>\n",
       "      <td>0.904346</td>\n",
       "      <td>189.912711</td>\n",
       "      <td>201.0</td>\n",
       "    </tr>\n",
       "    <tr>\n",
       "      <th>2</th>\n",
       "      <td>159889</td>\n",
       "      <td>0.0</td>\n",
       "      <td>53.39027</td>\n",
       "      <td>-6.23547</td>\n",
       "      <td>1.0</td>\n",
       "      <td>56.0</td>\n",
       "      <td>45.0</td>\n",
       "      <td>2.0</td>\n",
       "      <td>355.0</td>\n",
       "      <td>4.74</td>\n",
       "      <td>4.77</td>\n",
       "      <td>4.71</td>\n",
       "      <td>4.86</td>\n",
       "      <td>4.90</td>\n",
       "      <td>4.63</td>\n",
       "      <td>4.74</td>\n",
       "      <td>0.818367</td>\n",
       "      <td>290.520353</td>\n",
       "      <td>90.0</td>\n",
       "    </tr>\n",
       "    <tr>\n",
       "      <th>3</th>\n",
       "      <td>162809</td>\n",
       "      <td>1.0</td>\n",
       "      <td>53.28326</td>\n",
       "      <td>-6.19188</td>\n",
       "      <td>4.0</td>\n",
       "      <td>102.0</td>\n",
       "      <td>80.0</td>\n",
       "      <td>1.0</td>\n",
       "      <td>326.0</td>\n",
       "      <td>4.84</td>\n",
       "      <td>4.88</td>\n",
       "      <td>4.85</td>\n",
       "      <td>4.95</td>\n",
       "      <td>4.97</td>\n",
       "      <td>4.77</td>\n",
       "      <td>4.85</td>\n",
       "      <td>0.867712</td>\n",
       "      <td>282.874155</td>\n",
       "      <td>80.0</td>\n",
       "    </tr>\n",
       "    <tr>\n",
       "      <th>4</th>\n",
       "      <td>165828</td>\n",
       "      <td>0.0</td>\n",
       "      <td>53.33744</td>\n",
       "      <td>-6.32363</td>\n",
       "      <td>3.0</td>\n",
       "      <td>53.0</td>\n",
       "      <td>251.0</td>\n",
       "      <td>3.0</td>\n",
       "      <td>64.0</td>\n",
       "      <td>4.63</td>\n",
       "      <td>4.89</td>\n",
       "      <td>4.69</td>\n",
       "      <td>4.81</td>\n",
       "      <td>4.75</td>\n",
       "      <td>4.34</td>\n",
       "      <td>4.55</td>\n",
       "      <td>0.795085</td>\n",
       "      <td>50.885467</td>\n",
       "      <td>753.0</td>\n",
       "    </tr>\n",
       "  </tbody>\n",
       "</table>\n",
       "</div>"
      ],
      "text/plain": [
       "       id  host_is_superhost  latitude  longitude  beds  amenities  price  \\\n",
       "0   44077                1.0  53.29178   -6.25792   2.0      113.0   70.0   \n",
       "1   85156                1.0  53.29209   -6.25624   1.0       72.0   67.0   \n",
       "2  159889                0.0  53.39027   -6.23547   1.0       56.0   45.0   \n",
       "3  162809                1.0  53.28326   -6.19188   4.0      102.0   80.0   \n",
       "4  165828                0.0  53.33744   -6.32363   3.0       53.0  251.0   \n",
       "\n",
       "   minimum_nights  number_of_reviews  review_scores_rating  \\\n",
       "0             3.0              258.0                  4.78   \n",
       "1             3.0              210.0                  4.79   \n",
       "2             2.0              355.0                  4.74   \n",
       "3             1.0              326.0                  4.84   \n",
       "4             3.0               64.0                  4.63   \n",
       "\n",
       "   review_scores_accuracy  review_scores_cleanliness  review_scores_checkin  \\\n",
       "0                    4.83                       4.74                   4.93   \n",
       "1                    4.86                       4.74                   4.90   \n",
       "2                    4.77                       4.71                   4.86   \n",
       "3                    4.88                       4.85                   4.95   \n",
       "4                    4.89                       4.69                   4.81   \n",
       "\n",
       "   review_scores_communication  review_scores_location  review_scores_value  \\\n",
       "0                         4.93                    4.66                 4.82   \n",
       "1                         4.88                    4.64                 4.78   \n",
       "2                         4.90                    4.63                 4.74   \n",
       "3                         4.97                    4.77                 4.85   \n",
       "4                         4.75                    4.34                 4.55   \n",
       "\n",
       "   sentiment  review_mult_sent  total_exp  \n",
       "0   0.898396        231.786244      210.0  \n",
       "1   0.904346        189.912711      201.0  \n",
       "2   0.818367        290.520353       90.0  \n",
       "3   0.867712        282.874155       80.0  \n",
       "4   0.795085         50.885467      753.0  "
      ]
     },
     "execution_count": 44,
     "metadata": {},
     "output_type": "execute_result"
    }
   ],
   "source": [
    "all2 = []\n",
    "all3 = []\n",
    "for index, row in dc_listings.iterrows():\n",
    "    sen = row['number_of_reviews'] * row['sentiment']\n",
    "    tp = row['price'] * row['minimum_nights']\n",
    "    all2.append(sen)\n",
    "    all3.append(tp)\n",
    "\n",
    "dc_listings['review_mult_sent'] = all2\n",
    "dc_listings['total_exp'] = all3\n",
    "dc_listings.head()"
   ]
  },
  {
   "cell_type": "code",
   "execution_count": 45,
   "id": "cba940d7",
   "metadata": {},
   "outputs": [],
   "source": [
    "dc_listings.to_csv(\"refined_file.csv\")"
   ]
  },
  {
   "cell_type": "code",
   "execution_count": 95,
   "id": "6b498190",
   "metadata": {},
   "outputs": [
    {
     "name": "stdout",
     "output_type": "stream",
     "text": [
      "(5112, 8)\n"
     ]
    }
   ],
   "source": [
    "X = pd.DataFrame(dc_listings, columns=['host_is_superhost','latitude','longitude','beds','amenities','review_scores_value','review_mult_sent','total_exp'])\n",
    "X.describe()\n",
    "print(X.shape)"
   ]
  },
  {
   "cell_type": "code",
   "execution_count": 96,
   "id": "910810ee",
   "metadata": {},
   "outputs": [],
   "source": [
    "X.dropna(axis=0, how='any', inplace=True)"
   ]
  },
  {
   "cell_type": "code",
   "execution_count": 80,
   "id": "5b25b74d",
   "metadata": {},
   "outputs": [
    {
     "data": {
      "image/png": "[encoded data removed]",
      "text/plain": [
       "<Figure size 432x288 with 1 Axes>"
      ]
     },
     "metadata": {
      "needs_background": "light"
     },
     "output_type": "display_data"
    }
   ],
   "source": [
    "import matplotlib.pyplot as plt\n",
    "X.loc[(X.total_exp <= 4500) & (X.total_exp > 0)].total_exp.hist(bins=200)\n",
    "plt.ylabel('Count')\n",
    "plt.xlabel('Listing price in $')\n",
    "plt.title('Histogram of listing prices');"
   ]
  },
  {
   "cell_type": "code",
   "execution_count": 97,
   "id": "3c576dda",
   "metadata": {},
   "outputs": [],
   "source": [
    "X = X.loc[(X.total_exp <= 4500) & (X.total_exp > 0)]"
   ]
  },
  {
   "cell_type": "code",
   "execution_count": 98,
   "id": "07529de2",
   "metadata": {},
   "outputs": [
    {
     "name": "stdout",
     "output_type": "stream",
     "text": [
      "(4858, 8)\n"
     ]
    }
   ],
   "source": [
    "print(X.shape)"
   ]
  },
  {
   "cell_type": "code",
   "execution_count": 99,
   "id": "2a87557c",
   "metadata": {},
   "outputs": [
    {
     "data": {
      "image/png": "[encoded data removed]",
      "text/plain": [
       "<Figure size 720x792 with 9 Axes>"
      ]
     },
     "metadata": {
      "needs_background": "light"
     },
     "output_type": "display_data"
    }
   ],
   "source": [
    "columns=['host_is_superhost','latitude','longitude','beds','amenities','review_scores_value','review_mult_sent','total_exp']\n",
    "X[columns].hist(figsize=(10,11));"
   ]
  },
  {
   "cell_type": "code",
   "execution_count": 100,
   "id": "a5f1ab20",
   "metadata": {},
   "outputs": [
    {
     "data": {
      "image/png": "[encoded data removed]",
      "text/plain": [
       "<Figure size 720x792 with 9 Axes>"
      ]
     },
     "metadata": {
      "needs_background": "light"
     },
     "output_type": "display_data"
    }
   ],
   "source": [
    "# numerical_columns = [i for i in columns]\n",
    "# for col in numerical_columns:\n",
    "#     X[col] = X[col].astype('float64').replace(0.0, 0.01) # Replacing 0s with 0.01\n",
    "#     X[col] = np.log(X[col])\n",
    "from sklearn.preprocessing import StandardScaler, MinMaxScaler \n",
    "scaler = StandardScaler()\n",
    "X = pd.DataFrame(scaler.fit_transform(X), columns=list(X.columns))\n",
    "X[columns].hist(figsize=(10,11));\n",
    "y = X['review_scores_value']\n",
    "X = X.drop(labels='review_scores_value',axis=1)"
   ]
  },
  {
   "cell_type": "code",
   "execution_count": 101,
   "id": "91dca2ba",
   "metadata": {},
   "outputs": [],
   "source": [
    "from sklearn.model_selection import train_test_split, cross_val_score\n",
    "X_train, X_test, y_train, y_test = train_test_split(X, y, test_size=0.2, random_state=123)"
   ]
  },
  {
   "cell_type": "code",
   "execution_count": 77,
   "id": "336c3c68",
   "metadata": {},
   "outputs": [
    {
     "ename": "AttributeError",
     "evalue": "'function' object has no attribute 'sum'",
     "output_type": "error",
     "traceback": [
      "\u001b[0;31m---------------------------------------------------------------------------\u001b[0m",
      "\u001b[0;31mAttributeError\u001b[0m                            Traceback (most recent call last)",
      "Input \u001b[0;32mIn [77]\u001b[0m, in \u001b[0;36m<cell line: 1>\u001b[0;34m()\u001b[0m\n\u001b[0;32m----> 1\u001b[0m \u001b[43mX_train\u001b[49m\u001b[38;5;241;43m.\u001b[39;49m\u001b[43misna\u001b[49m\u001b[38;5;241;43m.\u001b[39;49m\u001b[43msum\u001b[49m()\n",
      "\u001b[0;31mAttributeError\u001b[0m: 'function' object has no attribute 'sum'"
     ]
    }
   ],
   "source": [
    "X_train.isna.sum()"
   ]
  },
  {
   "cell_type": "code",
   "execution_count": 102,
   "id": "6dfce2c7",
   "metadata": {},
   "outputs": [
    {
     "name": "stdout",
     "output_type": "stream",
     "text": [
      "Time taken to run: 0.0 minutes\n",
      "\n",
      "Training MSE: 0.1179\n",
      "Validation MSE: 0.8465\n",
      "\n",
      "Training r2: 0.8884\n",
      "Validation r2: -0.0928\n"
     ]
    }
   ],
   "source": [
    "import xgboost as xgb\n",
    "from xgboost import plot_importance\n",
    "import time\n",
    "from sklearn.metrics import explained_variance_score, mean_squared_error, r2_score\n",
    "\n",
    "xgb_reg_start = time.time()\n",
    "\n",
    "xgb_reg = xgb.XGBRegressor()\n",
    "xgb_reg.fit(X_train, y_train)\n",
    "training_preds_xgb_reg = xgb_reg.predict(X_train)\n",
    "val_preds_xgb_reg = xgb_reg.predict(X_test)\n",
    "\n",
    "xgb_reg_end = time.time()\n",
    "\n",
    "print(f\"Time taken to run: {round((xgb_reg_end - xgb_reg_start)/60,1)} minutes\")\n",
    "print(\"\\nTraining MSE:\", round(mean_squared_error(y_train, training_preds_xgb_reg),4))\n",
    "print(\"Validation MSE:\", round(mean_squared_error(y_test, val_preds_xgb_reg),4))\n",
    "print(\"\\nTraining r2:\", round(r2_score(y_train, training_preds_xgb_reg),4))\n",
    "print(\"Validation r2:\", round(r2_score(y_test, val_preds_xgb_reg),4))"
   ]
  },
  {
   "cell_type": "code",
   "execution_count": 103,
   "id": "26bf7860",
   "metadata": {},
   "outputs": [
    {
     "data": {
      "image/png": "[encoded data removed]",
      "text/plain": [
       "<Figure size 576x1440 with 1 Axes>"
      ]
     },
     "metadata": {
      "needs_background": "light"
     },
     "output_type": "display_data"
    }
   ],
   "source": [
    "ft_weights_xgb_reg = pd.DataFrame(xgb_reg.feature_importances_, columns=['weight'], index=X_train.columns)\n",
    "ft_weights_xgb_reg.sort_values('weight', inplace=True)\n",
    "ft_weights_xgb_reg\n",
    "# Plotting feature importances\n",
    "plt.figure(figsize=(8,20))\n",
    "plt.barh(ft_weights_xgb_reg.index, ft_weights_xgb_reg.weight, align='center') \n",
    "plt.title(\"Feature importances in the XGBoost model\", fontsize=14)\n",
    "plt.xlabel(\"Feature importance\")\n",
    "plt.margins(y=0.01)\n",
    "plt.show()"
   ]
  },
  {
   "cell_type": "code",
   "execution_count": null,
   "id": "a2a630e7",
   "metadata": {},
   "outputs": [],
   "source": []
  }
 ],
 "metadata": {
  "kernelspec": {
   "display_name": "Python 3 (ipykernel)",
   "language": "python",
   "name": "python3"
  },
  "language_info": {
   "codemirror_mode": {
    "name": "ipython",
    "version": 3
   },
   "file_extension": ".py",
   "mimetype": "text/x-python",
   "name": "python",
   "nbconvert_exporter": "python",
   "pygments_lexer": "ipython3",
   "version": "3.9.12"
  }
 },
 "nbformat": 4,
 "nbformat_minor": 5
}
