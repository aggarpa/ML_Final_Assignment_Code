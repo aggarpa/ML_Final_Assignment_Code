{
 "cells": [
  {
   "cell_type": "code",
   "execution_count": 97,
   "id": "362c5b7e",
   "metadata": {},
   "outputs": [],
   "source": [
    "import pandas as pd\n",
    "import numpy as np\n",
    "\n",
    "dc_listings = pd.read_csv('listings.csv')\n",
    "dc_reviews = pd.read_csv('reviews.csv')\n",
    "merged = pd.merge(dc_listings, dc_reviews, \n",
    "                   on='id', \n",
    "                   how='inner')\n",
    "\n",
    "merged.drop(['listing_url','scrape_id','last_scraped','source', 'name', 'picture_url','host_id','host_url',\n",
    "                 'host_name', 'host_location', 'host_about', 'host_response_time', 'host_response_rate', 'host_acceptance_rate',\n",
    "                 'description', 'neighborhood_overview', 'host_thumbnail_url', 'host_picture_url', 'host_neighbourhood',\n",
    "                 'host_verifications', 'host_has_profile_pic', 'neighbourhood', 'neighbourhood_cleansed', 'neighbourhood_group_cleansed',\n",
    "                 'latitude', 'longitude', 'property_type', 'room_type', 'bathrooms', 'minimum_nights', 'maximum_nights',\n",
    "                 'minimum_minimum_nights', 'maximum_minimum_nights', 'minimum_maximum_nights', 'maximum_maximum_nights',\n",
    "                 'minimum_nights_avg_ntm', 'maximum_nights_avg_ntm', 'calendar_updated', 'availability_30', 'availability_60',\n",
    "                 'availability_90', 'availability_365', 'calendar_last_scraped', 'number_of_reviews_ltm', 'number_of_reviews_l30d',\n",
    "                 'first_review', 'last_review', 'license', 'instant_bookable', 'calculated_host_listings_count_shared_rooms',\n",
    "                 'calculated_host_listings_count_private_rooms', 'calculated_host_listings_count_entire_homes',\n",
    "                 'calculated_host_listings_count','id_2','date','reviewer_id', 'reviewer_name', 'host_since',\n",
    "                 'host_listings_count', 'host_total_listings_count', 'host_identity_verified',\n",
    "                 'accommodates', 'bathrooms_text', 'bedrooms', 'beds', 'reviews_per_month',\n",
    "                    'has_availability','number_of_reviews','amenities','price'], axis=1, inplace=True)"
   ]
  },
  {
   "cell_type": "code",
   "execution_count": 98,
   "id": "11791682",
   "metadata": {},
   "outputs": [
    {
     "name": "stderr",
     "output_type": "stream",
     "text": [
      "/var/folders/rd/j5mq0pcd6c3b6ld8pnmj2xnw0000gn/T/ipykernel_2505/2103752435.py:1: FutureWarning: The default value of regex will change from True to False in a future version.\n",
      "  merged['comments'] = merged['comments'].str.replace(\"[^a-zA-Z#]\", \" \")\n"
     ]
    }
   ],
   "source": [
    "merged['comments'] = merged['comments'].str.replace(\"[^a-zA-Z#]\", \" \")\n",
    "merged['comments'] = merged['comments'].str.casefold()"
   ]
  },
  {
   "cell_type": "code",
   "execution_count": 102,
   "id": "803c75e9",
   "metadata": {},
   "outputs": [],
   "source": [
    "merged = merged.iloc[:3000]"
   ]
  },
  {
   "cell_type": "code",
   "execution_count": 103,
   "id": "45c580b5",
   "metadata": {},
   "outputs": [],
   "source": [
    "import nltk\n",
    "from nltk.sentiment.vader import SentimentIntensityAnalyzer\n",
    "\n",
    "all = []\n",
    "for review in merged['comments']:\n",
    "    sid = SentimentIntensityAnalyzer()\n",
    "    scores = sid.polarity_scores(x)\n",
    "    all.append(scores['compound'])\n",
    "\n",
    "merged['sentiment'] = all"
   ]
  },
  {
   "cell_type": "code",
   "execution_count": 104,
   "id": "9dd5f3fa",
   "metadata": {},
   "outputs": [],
   "source": [
    "merged = merged.groupby('id').mean()"
   ]
  },
  {
   "cell_type": "code",
   "execution_count": 105,
   "id": "494e8972",
   "metadata": {},
   "outputs": [
    {
     "name": "stdout",
     "output_type": "stream",
     "text": [
      "(18, 8)\n"
     ]
    }
   ],
   "source": [
    "print(merged.shape)"
   ]
  },
  {
   "cell_type": "code",
   "execution_count": 106,
   "id": "4fd8f338",
   "metadata": {},
   "outputs": [
    {
     "name": "stdout",
     "output_type": "stream",
     "text": [
      "        review_scores_rating  review_scores_accuracy  \\\n",
      "id                                                     \n",
      "44077                   4.78                    4.83   \n",
      "85156                   4.79                    4.86   \n",
      "159889                  4.74                    4.77   \n",
      "162809                  4.84                    4.88   \n",
      "165828                  4.63                    4.89   \n",
      "165829                  4.69                    4.85   \n",
      "178860                  4.88                    4.94   \n",
      "181823                  4.60                    4.62   \n",
      "237465                  4.56                    4.71   \n",
      "245903                  4.93                    4.93   \n",
      "292757                  4.92                    4.91   \n",
      "302554                  4.67                    4.72   \n",
      "302634                  4.61                    4.69   \n",
      "374792                  4.48                    4.50   \n",
      "386860                  4.67                    4.77   \n",
      "393631                  4.87                    4.88   \n",
      "419987                  4.80                    4.80   \n",
      "424596                  4.84                    4.92   \n",
      "\n",
      "        review_scores_cleanliness  review_scores_checkin  \\\n",
      "id                                                         \n",
      "44077                        4.74                   4.93   \n",
      "85156                        4.74                   4.90   \n",
      "159889                       4.71                   4.86   \n",
      "162809                       4.85                   4.95   \n",
      "165828                       4.69                   4.81   \n",
      "165829                       4.75                   4.78   \n",
      "178860                       4.88                   4.95   \n",
      "181823                       4.47                   4.79   \n",
      "237465                       4.56                   4.81   \n",
      "245903                       4.90                   4.98   \n",
      "292757                       4.78                   4.95   \n",
      "302554                       4.83                   4.93   \n",
      "302634                       4.75                   4.83   \n",
      "374792                       4.59                   4.85   \n",
      "386860                       4.52                   4.91   \n",
      "393631                       4.86                   4.93   \n",
      "419987                       4.85                   4.92   \n",
      "424596                       4.91                   4.89   \n",
      "\n",
      "        review_scores_communication  review_scores_location  \\\n",
      "id                                                            \n",
      "44077                          4.93                    4.66   \n",
      "85156                          4.88                    4.64   \n",
      "159889                         4.90                    4.63   \n",
      "162809                         4.97                    4.77   \n",
      "165828                         4.75                    4.34   \n",
      "165829                         4.73                    4.39   \n",
      "178860                         4.96                    4.94   \n",
      "181823                         4.83                    4.47   \n",
      "237465                         4.79                    4.39   \n",
      "245903                         5.00                    4.66   \n",
      "292757                         4.95                    4.94   \n",
      "302554                         4.90                    4.44   \n",
      "302634                         4.91                    4.47   \n",
      "374792                         4.79                    4.41   \n",
      "386860                         4.83                    4.77   \n",
      "393631                         4.91                    4.24   \n",
      "419987                         4.94                    4.50   \n",
      "424596                         4.88                    4.62   \n",
      "\n",
      "        review_scores_value  sentiment  \n",
      "id                                      \n",
      "44077                  4.82     0.9836  \n",
      "85156                  4.78     0.9836  \n",
      "159889                 4.74     0.9836  \n",
      "162809                 4.85     0.9836  \n",
      "165828                 4.55     0.9836  \n",
      "165829                 4.59     0.9836  \n",
      "178860                 4.84     0.9836  \n",
      "181823                 4.47     0.9836  \n",
      "237465                 4.61     0.9836  \n",
      "245903                 4.85     0.9836  \n",
      "292757                 4.84     0.9836  \n",
      "302554                 4.65     0.9836  \n",
      "302634                 4.48     0.9836  \n",
      "374792                 4.50     0.9836  \n",
      "386860                 4.56     0.9836  \n",
      "393631                 4.65     0.9836  \n",
      "419987                 4.61     0.9836  \n",
      "424596                 4.75     0.9836  \n"
     ]
    }
   ],
   "source": [
    "print(merged)"
   ]
  },
  {
   "cell_type": "code",
   "execution_count": null,
   "id": "461e36d0",
   "metadata": {},
   "outputs": [],
   "source": []
  }
 ],
 "metadata": {
  "kernelspec": {
   "display_name": "Python 3 (ipykernel)",
   "language": "python",
   "name": "python3"
  },
  "language_info": {
   "codemirror_mode": {
    "name": "ipython",
    "version": 3
   },
   "file_extension": ".py",
   "mimetype": "text/x-python",
   "name": "python",
   "nbconvert_exporter": "python",
   "pygments_lexer": "ipython3",
   "version": "3.9.12"
  }
 },
 "nbformat": 4,
 "nbformat_minor": 5
}
